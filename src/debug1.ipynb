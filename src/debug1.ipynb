{
 "cells": [
  {
   "cell_type": "code",
   "execution_count": 9,
   "id": "d82b7f78-567f-4c29-951c-95efc610cabd",
   "metadata": {},
   "outputs": [],
   "source": [
    "from unified_planning.shortcuts import *\n",
    "from unified_planning.plans import *\n",
    "from importlib import reload"
   ]
  },
  {
   "cell_type": "code",
   "execution_count": 1,
   "id": "7280fc06-fa4d-4fd9-a9a8-a2895f086e22",
   "metadata": {},
   "outputs": [],
   "source": [
    "import unifiedplanning_blocksworld as bw\n",
    "import prompts\n",
    "import planbench as pb\n",
    "import policy_model as policy\n",
    "import llm_utils\n",
    "import data_loader\n",
    "import pandas as pd\n",
    "import regex as re"
   ]
  },
  {
   "cell_type": "code",
   "execution_count": 316,
   "id": "a92f56a6",
   "metadata": {},
   "outputs": [
    {
     "data": {
      "text/plain": [
       "<module 'data_loader' from '/Users/akankshachawla/Desktop/WS-24-25/Thesis/planning-with-llms/src/data_loader.py'>"
      ]
     },
     "execution_count": 316,
     "metadata": {},
     "output_type": "execute_result"
    }
   ],
   "source": [
    "reload(policy)\n",
    "reload(prompts)\n",
    "reload(bw)\n",
    "reload(pb)\n",
    "reload(llm_utils)\n",
    "reload(data_loader)"
   ]
  },
  {
   "cell_type": "code",
   "execution_count": 37,
   "id": "06b99084",
   "metadata": {},
   "outputs": [
    {
     "data": {
      "text/plain": [
       "\"I'd be happy to help you. Please provide more details about what you need help with, such as:\\n\\n1. A specific problem you're facing\\n2. A question you have\\n3. A topic you'd like to discuss\\n4. A task you need assistance with\\n\\nYou can also type one of the following commands to get started:\\n\\n* `general` for general conversation\\n* `math` for math-related help\\n* `programming` for programming-related help\\n* `writing` for writing-related help\\n* `other` for anything else\\n\\nRemember, I'm here to help and provide guidance to the best of my abilities!\""
      ]
     },
     "execution_count": 37,
     "metadata": {},
     "output_type": "execute_result"
    }
   ],
   "source": [
    "llm_utils.query_llm('help')"
   ]
  },
  {
   "cell_type": "code",
   "execution_count": 4,
   "id": "97fd1466-dbc6-4724-9933-6c3ec72c3781",
   "metadata": {},
   "outputs": [],
   "source": [
    "problem = bw.BlocksworldProblem()"
   ]
  },
  {
   "cell_type": "code",
   "execution_count": 5,
   "id": "406ae771-c57b-47d9-9597-613ac640f9db",
   "metadata": {},
   "outputs": [
    {
     "name": "stdout",
     "output_type": "stream",
     "text": [
      "{clear(blue): true, clear(yellow): true, hand_empty: true, on(blue, orange): true, on(orange, red): true, on(blue, blue): false, on(yellow, blue): false, on(orange, blue): false, on(red, blue): false, on(blue, yellow): false, on(yellow, yellow): false, on(orange, yellow): false, on(red, yellow): false, on(yellow, orange): false, on(orange, orange): false, on(red, orange): false, on(blue, red): false, on(yellow, red): false, on(red, red): false, clear(orange): false, clear(red): false, holding(blue): false, holding(yellow): false, holding(orange): false, holding(red): false}\n"
     ]
    }
   ],
   "source": [
    "pb.parse_planbench_initial_condition(problem, prompts.nextaction_problem_init)\n",
    "pb.parse_planbench_goal_state(problem, prompts.nextaction_problem_goal)\n",
    "print(problem.initial_values)\n",
    "#initial vals ko vaapais readable mein translate karna hoga"
   ]
  },
  {
   "cell_type": "code",
   "execution_count": null,
   "id": "a2c872a5",
   "metadata": {},
   "outputs": [],
   "source": [
    "\n",
    "pi = policy.PolicyModel()\n",
    "    # def next_action_one_shot(self, \n",
    "    #                          problem_init, problem_goal,problem_action_hist,  # the state S\n",
    "    #                          example_init, example_goal,example_action_hist,example_next_action)\n",
    "plan=[]\n",
    "action_tuple = pi.next_action_one_shot(prompts.nextaction_problem_init, prompts.nextaction_problem_goal,\n",
    "                                       plan,\n",
    "                                       prompts.nextaction_example_init, prompts.nextaction_example_goal,\n",
    "                                       prompts.nextaction_example_action_hist,prompts.nextaction_example_nextaction)\n"
   ]
  },
  {
   "cell_type": "code",
   "execution_count": 82,
   "id": "415b9536",
   "metadata": {},
   "outputs": [
    {
     "name": "stdout",
     "output_type": "stream",
     "text": [
      "('unstack', 'blue', 'orange')\n",
      "('blue', 'orange')\n",
      "unstack(blue, orange)\n"
     ]
    }
   ],
   "source": [
    "action_tuple=('unstack','blue','orange')\n",
    "print(action_tuple)\n",
    "next_action=problem.create_action(action=action_tuple[0],blocks=action_tuple[1:])\n",
    "print(next_action)"
   ]
  },
  {
   "cell_type": "code",
   "execution_count": 83,
   "id": "c9f8a8c2",
   "metadata": {},
   "outputs": [
    {
     "name": "stdout",
     "output_type": "stream",
     "text": [
      "{on(blue, orange): false, holding(blue): true, clear(orange): true, hand_empty: false, clear(blue): true, clear(yellow): true, on(orange, red): true, on(blue, blue): false, on(yellow, blue): false, on(orange, blue): false, on(red, blue): false, on(blue, yellow): false, on(yellow, yellow): false, on(orange, yellow): false, on(red, yellow): false, on(yellow, orange): false, on(orange, orange): false, on(red, orange): false, on(blue, red): false, on(yellow, red): false, on(red, red): false, clear(red): false, holding(yellow): false, holding(orange): false, holding(red): false}\n"
     ]
    }
   ],
   "source": [
    "simulation=problem.create_seq_simulation()\n",
    "current_state=simulation.get_initial_state()\n",
    "new_state=problem.validate_action(current_state,next_action,simulation)\n",
    "if(new_state):\n",
    "    print(new_state)\n",
    "else:\n",
    "    print('Invalid action proposed by policy')"
   ]
  },
  {
   "cell_type": "code",
   "execution_count": 6,
   "id": "d8665269",
   "metadata": {},
   "outputs": [
    {
     "data": {
      "text/html": [
       "<div>\n",
       "<style scoped>\n",
       "    .dataframe tbody tr th:only-of-type {\n",
       "        vertical-align: middle;\n",
       "    }\n",
       "\n",
       "    .dataframe tbody tr th {\n",
       "        vertical-align: top;\n",
       "    }\n",
       "\n",
       "    .dataframe thead th {\n",
       "        text-align: right;\n",
       "    }\n",
       "</style>\n",
       "<table border=\"1\" class=\"dataframe\">\n",
       "  <thead>\n",
       "    <tr style=\"text-align: right;\">\n",
       "      <th></th>\n",
       "      <th>task</th>\n",
       "      <th>prompt_type</th>\n",
       "      <th>domain</th>\n",
       "      <th>instance_id</th>\n",
       "      <th>example_instance_ids</th>\n",
       "      <th>query</th>\n",
       "      <th>ground_truth_plan</th>\n",
       "    </tr>\n",
       "  </thead>\n",
       "  <tbody>\n",
       "    <tr>\n",
       "      <th>885</th>\n",
       "      <td>task_1_plan_generation</td>\n",
       "      <td>oneshot</td>\n",
       "      <td>blocksworld_3</td>\n",
       "      <td>2</td>\n",
       "      <td>[1]</td>\n",
       "      <td>I am playing with a set of blocks where I need...</td>\n",
       "      <td>(pick-up red)\\n(stack red orange)\\n(pick-up bl...</td>\n",
       "    </tr>\n",
       "    <tr>\n",
       "      <th>886</th>\n",
       "      <td>task_1_plan_generation</td>\n",
       "      <td>oneshot</td>\n",
       "      <td>blocksworld_3</td>\n",
       "      <td>3</td>\n",
       "      <td>[2]</td>\n",
       "      <td>I am playing with a set of blocks where I need...</td>\n",
       "      <td>(unstack blue orange)\\n(put-down blue)\\n(unsta...</td>\n",
       "    </tr>\n",
       "    <tr>\n",
       "      <th>887</th>\n",
       "      <td>task_1_plan_generation</td>\n",
       "      <td>oneshot</td>\n",
       "      <td>blocksworld_3</td>\n",
       "      <td>4</td>\n",
       "      <td>[3]</td>\n",
       "      <td>I am playing with a set of blocks where I need...</td>\n",
       "      <td>(unstack red blue)\\n(put-down red)\\n(unstack b...</td>\n",
       "    </tr>\n",
       "    <tr>\n",
       "      <th>888</th>\n",
       "      <td>task_1_plan_generation</td>\n",
       "      <td>oneshot</td>\n",
       "      <td>blocksworld_3</td>\n",
       "      <td>5</td>\n",
       "      <td>[4]</td>\n",
       "      <td>I am playing with a set of blocks where I need...</td>\n",
       "      <td>(unstack red blue)\\n(put-down red)\\n(unstack b...</td>\n",
       "    </tr>\n",
       "    <tr>\n",
       "      <th>889</th>\n",
       "      <td>task_1_plan_generation</td>\n",
       "      <td>oneshot</td>\n",
       "      <td>blocksworld_3</td>\n",
       "      <td>6</td>\n",
       "      <td>[5]</td>\n",
       "      <td>I am playing with a set of blocks where I need...</td>\n",
       "      <td>(unstack red orange)\\n(put-down red)\\n(unstack...</td>\n",
       "    </tr>\n",
       "  </tbody>\n",
       "</table>\n",
       "</div>"
      ],
      "text/plain": [
       "                       task prompt_type         domain  instance_id  \\\n",
       "885  task_1_plan_generation     oneshot  blocksworld_3            2   \n",
       "886  task_1_plan_generation     oneshot  blocksworld_3            3   \n",
       "887  task_1_plan_generation     oneshot  blocksworld_3            4   \n",
       "888  task_1_plan_generation     oneshot  blocksworld_3            5   \n",
       "889  task_1_plan_generation     oneshot  blocksworld_3            6   \n",
       "\n",
       "    example_instance_ids                                              query  \\\n",
       "885                  [1]  I am playing with a set of blocks where I need...   \n",
       "886                  [2]  I am playing with a set of blocks where I need...   \n",
       "887                  [3]  I am playing with a set of blocks where I need...   \n",
       "888                  [4]  I am playing with a set of blocks where I need...   \n",
       "889                  [5]  I am playing with a set of blocks where I need...   \n",
       "\n",
       "                                     ground_truth_plan  \n",
       "885  (pick-up red)\\n(stack red orange)\\n(pick-up bl...  \n",
       "886  (unstack blue orange)\\n(put-down blue)\\n(unsta...  \n",
       "887  (unstack red blue)\\n(put-down red)\\n(unstack b...  \n",
       "888  (unstack red blue)\\n(put-down red)\\n(unstack b...  \n",
       "889  (unstack red orange)\\n(put-down red)\\n(unstack...  "
      ]
     },
     "execution_count": 6,
     "metadata": {},
     "output_type": "execute_result"
    }
   ],
   "source": [
    "reload(data_loader)\n",
    "df=data_loader.load_data(\"../data/train.parquet\")\n",
    "df.head()\n"
   ]
  },
  {
   "cell_type": "code",
   "execution_count": 156,
   "id": "5d224d62",
   "metadata": {},
   "outputs": [
    {
     "data": {
      "text/plain": [
       "4200"
      ]
     },
     "execution_count": 156,
     "metadata": {},
     "output_type": "execute_result"
    }
   ],
   "source": [
    "df.size"
   ]
  },
  {
   "cell_type": "code",
   "execution_count": 161,
   "id": "75e717d2",
   "metadata": {},
   "outputs": [
    {
     "name": "stdout",
     "output_type": "stream",
     "text": [
      "I am playing with a set of blocks where I need to arrange the blocks into stacks\n",
      "        Here are the actions I can do: Pick up a block, Unstack a block from on top of another block, Put down a block, Stack a block on top of another block.\"\n",
      "        I have the following restrictions on my actions:\n",
      "        I can only pick up or unstack one block at a time\n",
      "        I can only pick up or unstack a block if my hand is empty\n",
      "        I can only pick up a block if the block is on the table and the block is clear\n",
      "        A block is clear if the block has no other blocks on top of it and if the block is not picked up\n",
      "        I can only unstack a block from on top of another block if the block I am unstacking was really on top of the other block\n",
      "        I can only unstack a block from on top of another block if the block I am unstacking is clear\n",
      "        Once I pick up or unstack a block, I am holding the block\n",
      "        I can only put down a block that I am holding\n",
      "        I can only stack a block on top of another block if I am holding the block being stacked\n",
      "        I can only stack a block on top of another block if the block onto which I am stacking the block is clear\n",
      "        Once I put down or stack a block, my hand becomes empty\n",
      "        Once you stack a block on top of a second block, the second block is no longer clear\n",
      "\n",
      "[STATEMENT]\n",
      "As initial conditions I have that: the orange block is clear, the hand is empty, the blue block is on top of the red block, the orange block is on top of the blue block and the red block is on the table.\n",
      "My goal is to have that the red block is on top of the blue block and the orange block is on top of the red block.\n",
      "\n",
      "My plan is as follows:\n",
      "\n",
      "[PLAN]\n",
      "unstack the orange block from on top of the blue block\n",
      "put down the orange block\n",
      "unstack the blue block from on top of the red block\n",
      "put down the blue block\n",
      "pick up the red block\n",
      "stack the red block on top of the blue block\n",
      "pick up the orange block\n",
      "stack the orange block on top of the red block\n",
      "[PLAN END]\n",
      "\n",
      "[STATEMENT]\n",
      "As initial conditions I have that, the red block is clear, the blue block is clear, the orange block is clear, the hand is empty, the red block is on the table, the blue block is on the table and the orange block is on the table.\n",
      "My goal is to have that the red block is on top of the orange block and the blue block is on top of the red block.\n",
      "\n",
      "My plan is as follows:\n",
      "\n",
      "[PLAN]\n"
     ]
    }
   ],
   "source": [
    "reload(prompts)\n",
    "prompt=prompts.make_prompt(df.iloc[0]['query'],type='full')\n",
    "print(prompt)"
   ]
  },
  {
   "cell_type": "code",
   "execution_count": 7,
   "id": "c74bee33",
   "metadata": {},
   "outputs": [],
   "source": [
    "reload(pb)\n",
    "pbstring=prompts.get_pbstring(df.iloc[0]['query'])\n",
    "# matches = [m.start() for m in re.finditer(r'\\[STATEMENT\\]', pbstring)]\n",
    "# if len(matches) >= 2:\n",
    "#     problem_string = pbstring[matches[1]:]  # Extract from the second occurrence onward\n",
    "#     print(problem_string)\n",
    "\n",
    "init,goal=pb.parse_problem(pbstring)\n",
    "\n",
    "#print(problem_string)"
   ]
  },
  {
   "cell_type": "code",
   "execution_count": 8,
   "metadata": {},
   "outputs": [
    {
     "data": {
      "text/plain": [
       "' the red block is clear, the blue block is clear, the orange block is clear, the hand is empty, the red block is on the table, the blue block is on the table and the orange block is on the table'"
      ]
     },
     "execution_count": 8,
     "metadata": {},
     "output_type": "execute_result"
    }
   ],
   "source": [
    "init"
   ]
  },
  {
   "cell_type": "code",
   "execution_count": 9,
   "id": "d3a48f07",
   "metadata": {},
   "outputs": [
    {
     "data": {
      "text/plain": [
       "' the red block is on top of the orange block and the blue block is on top of the red block'"
      ]
     },
     "execution_count": 9,
     "metadata": {},
     "output_type": "execute_result"
    }
   ],
   "source": [
    "goal"
   ]
  },
  {
   "cell_type": "code",
   "execution_count": 175,
   "id": "e372e844",
   "metadata": {},
   "outputs": [
    {
     "name": "stdout",
     "output_type": "stream",
     "text": [
      " the red block is on top of the orange block and the blue block is on top of the red block\n"
     ]
    }
   ],
   "source": [
    "conditions=problem_string.split(\"As initial conditions I have that,\")[1]\n",
    "goal_part="
   ]
  },
  {
   "cell_type": "code",
   "execution_count": 315,
   "id": "cd11b39e",
   "metadata": {},
   "outputs": [],
   "source": [
    "def evaluate(attempts,struct,diff_len,results,actions_to_goal,gplan_lens):\n",
    "    metrics=pd.DataFrame({\n",
    "        'Attempts':attempts,\n",
    "        'Structured':struct,\n",
    "        'Diff in plan length':diff_len,\n",
    "        'Terminate':results,\n",
    "        'Action-steps away from goal':actions_to_goal,\n",
    "        'Action-steps in GOLD standard':gplan_lens\n",
    "    })\n",
    "    correct_plans=sum(results)\n",
    "    c_rate=correct_plans/len(results)\n",
    "    c_rate=format(c_rate,\".2f\")\n",
    "    return metrics,c_rate"
   ]
  },
  {
   "cell_type": "code",
   "execution_count": 318,
   "id": "e0aca556",
   "metadata": {},
   "outputs": [],
   "source": [
    "#vanilla method\n",
    "from collections import defaultdict\n",
    "import math\n",
    "def main_fullSol(df,model,temp=0.7):\n",
    "    results=[False]*len(df)\n",
    "    well_struct=[False]*len(df)\n",
    "    num_tries=[0]*len(df)\n",
    "    diff_planlen=[-math.inf]*len(df)\n",
    "    actions_to_goal=[-math.inf]*len(df)\n",
    "    gplan_lens=[-math.inf]*len(df)\n",
    "    for i in range(0,len(df)):\n",
    "    #for i in range(0,1):\n",
    "        \n",
    "        print(f'\\n\\n--------------------Entering main loop PROBLEM #{i}--------------------')\n",
    "        \n",
    "        #declarations: Blocksworld Problem object\n",
    "        problem = bw.BlocksworldProblem()\n",
    "        model_plan=None\n",
    "\n",
    "        #create prompt using PLANBENCH dataset\n",
    "        #prompt=prompts.make_prompt(df.iloc[i]['query'])\n",
    "        #print(f'\\n\\nMake prompt:{prompt} \\nEND Make prompt')\n",
    "\n",
    "        #create prompt using OUR dataset\n",
    "        prompt,init,goal=prompts.make_prompt(df.iloc[i]['init'],df.iloc[i]['goal'],df.iloc[i]['demo_init'],df.iloc[i]['demo_goal'],df.iloc[i]['demo_plan'])\n",
    "\n",
    "        print(f'*************** PROMPT ***************: \\n\\n {prompt}')\n",
    "\n",
    "        #parse PLANBENCH dataset into Blocksworld object\n",
    "        #pbstring=prompts.get_pbstring(df.iloc[i]['query'])\n",
    "        #init,goal=pb.parse_problem(pbstring)\n",
    "        #pb.parse_planbench_initial_condition(problem, init)\n",
    "        #pb.parse_planbench_goal_state(problem, goal)\n",
    "        #print(f'\\n\\nBlocksworld Problem Initial Values:{problem.initial_values}')\n",
    "        #print(f'\\nBlocksworld Problem Goal Condition:{problem.goals}')\n",
    "        \n",
    "        #changed generation of Blocksworld object for OUR dataset\n",
    "        pb.parse_planbench_initial_condition(problem, init)\n",
    "        pb.parse_planbench_goal_state(problem, goal)\n",
    "        print(f'\\n\\nBlocksworld Problem Initial Values:{problem.initial_values}')\n",
    "        print(f'\\nBlocksworld Problem Goal Condition:{problem.goals}')\n",
    "\n",
    "        #activate solve mode\n",
    "        pi = policy.PolicyModel()\n",
    "        #query the llm, parse the actions, return tuples\n",
    "        response=pi.Vanilla_fullSol_one_shot(prompt,model=model,temp=temp)\n",
    "        actions=response[0]\n",
    "        tries=response[1]\n",
    "\n",
    "        num_tries[i]=tries\n",
    "\n",
    "        if not actions:\n",
    "            well_struct[i]=False\n",
    "            print(f'\\n\\n LLM exceeded 3 tries')\n",
    "            results[i]=False\n",
    "            continue\n",
    "        well_struct[i]=True\n",
    "        plan_len=len(actions)\n",
    "        \n",
    "        #generate plan from proposed actions\n",
    "        #actions=[('unstack', 'brown', 'teal'), ('put-down', 'brown'), ('unstack', 'teal', 'violet'), ('put-down', 'teal'), ('unstack', 'violet', 'teal'), ('put-down', 'violet')] \n",
    "        #actions=[('unstack', 'green', 'pink'), ('put-down', 'green'), ('unstack', 'pink', 'red'), ('put-down', 'pink'),('pick_up', 'green'), ('stack', 'green' , 'red')] \n",
    "        #plan_len=len(actions)\n",
    "\n",
    "        print(f'\\n\\nProposed actions by LLM : {actions} \\n  END')\n",
    "        model_plan=problem.create_plan_from_tuples(actions)\n",
    "        if not model_plan:\n",
    "            results[i]=False\n",
    "            print('!!!!!!!!!!!Action statement NOT FROM LIST OF ALLOWED actions!!!!!!!!!!!!')\n",
    "            #continue\n",
    "\n",
    "        if model_plan:\n",
    "            print(f'LLM PLAN: {model_plan}')\n",
    "\n",
    "        #validate and apply    \n",
    "        simulation=problem.create_seq_simulation()\n",
    "        valid_state,flag=problem.check_and_apply(simulation,model_plan)\n",
    "        if not flag:\n",
    "            results[i]=False\n",
    "            #continue\n",
    "            \n",
    "\n",
    "        #compute actions to goal from last valid state\n",
    "        # print(f'UBS OBJECT FOR LAST VALID STATE: {valid_state,sim}')\n",
    "        a2g=problem.actions_to_goal(valid_state)\n",
    "        actions_to_goal[i]=a2g\n",
    "\n",
    "        \n",
    "        #get gold-plan on problem\n",
    "        gold_plan=problem.generate_plan()\n",
    "        gplan_actions=str(gold_plan.plan).strip().split('\\n')\n",
    "        gplan_actions=gplan_actions[1:]\n",
    "        gplan_len=len(gplan_actions)\n",
    "        gplan_lens[i]=gplan_len\n",
    "        print(f'\\n\\n$$$Proposed actions by GOLD PLAN $$$ : {gplan_actions} \\n END')\n",
    "\n",
    "\n",
    "        #termination-check \n",
    "        if problem.terminate(valid_state):\n",
    "            # print(f'Check and Apply return STATE:{valid_state}')\n",
    "            # print(f'v/s')\n",
    "            # print(f'GOAL STATE: {problem.goals}')\n",
    "            # print('Setting result as true')\n",
    "            results[i]=True\n",
    "            diff_planlen[i]=plan_len-gplan_len\n",
    "            continue\n",
    "        \n",
    "        results[i]=False\n",
    "\n",
    "        #compute metrics\n",
    "\n",
    "    metrics,c_rate=evaluate(num_tries,well_struct,diff_planlen,results,actions_to_goal,gplan_lens)\n",
    "    return metrics,c_rate"
   ]
  },
  {
   "cell_type": "code",
   "execution_count": 319,
   "id": "3392ec5a",
   "metadata": {},
   "outputs": [],
   "source": [
    "#load data for PLANBENCH dataset\n",
    "#df=data_loader.load_data(\"../data/train.parquet\")\n",
    "#df.head()\n",
    "#results=main_fullSol(df)"
   ]
  },
  {
   "cell_type": "code",
   "execution_count": 320,
   "id": "29f64aa8",
   "metadata": {},
   "outputs": [],
   "source": [
    "#print(f\"\\n\\n Model solution's verdict: {results}\")"
   ]
  },
  {
   "cell_type": "code",
   "execution_count": 321,
   "id": "f50a4456",
   "metadata": {},
   "outputs": [],
   "source": [
    "#df.head"
   ]
  },
  {
   "cell_type": "code",
   "execution_count": 322,
   "id": "4ae2cc45",
   "metadata": {},
   "outputs": [
    {
     "data": {
      "text/html": [
       "<div>\n",
       "<style scoped>\n",
       "    .dataframe tbody tr th:only-of-type {\n",
       "        vertical-align: middle;\n",
       "    }\n",
       "\n",
       "    .dataframe tbody tr th {\n",
       "        vertical-align: top;\n",
       "    }\n",
       "\n",
       "    .dataframe thead th {\n",
       "        text-align: right;\n",
       "    }\n",
       "</style>\n",
       "<table border=\"1\" class=\"dataframe\">\n",
       "  <thead>\n",
       "    <tr style=\"text-align: right;\">\n",
       "      <th></th>\n",
       "      <th>init</th>\n",
       "      <th>goal</th>\n",
       "      <th>demo_init</th>\n",
       "      <th>demo_goal</th>\n",
       "      <th>demo_plan</th>\n",
       "    </tr>\n",
       "  </thead>\n",
       "  <tbody>\n",
       "    <tr>\n",
       "      <th>0</th>\n",
       "      <td>(('violet', 'teal', 'brown'),)</td>\n",
       "      <td>(('violet',), ('teal',), ('brown',))</td>\n",
       "      <td>the green block is clear,  the hand is empty, ...</td>\n",
       "      <td>the green block is on the table, the red bloc...</td>\n",
       "      <td>[PLAN]\\nunstack the green block from on top of...</td>\n",
       "    </tr>\n",
       "    <tr>\n",
       "      <th>1</th>\n",
       "      <td>(('red', 'pink', 'green'),)</td>\n",
       "      <td>(('pink',), ('red', 'green'))</td>\n",
       "      <td>the pink block is clear, the red block is clea...</td>\n",
       "      <td>the red block is on the table, the pink block...</td>\n",
       "      <td>[PLAN]\\nunstack the pink block from on top of ...</td>\n",
       "    </tr>\n",
       "    <tr>\n",
       "      <th>2</th>\n",
       "      <td>(('pink', 'red', 'green'),)</td>\n",
       "      <td>(('red', 'pink'), ('green',))</td>\n",
       "      <td>the violet block is clear,  the hand is empty,...</td>\n",
       "      <td>the teal block is on the table, the violet bl...</td>\n",
       "      <td>[PLAN]\\nunstack the violet block from on top o...</td>\n",
       "    </tr>\n",
       "    <tr>\n",
       "      <th>3</th>\n",
       "      <td>(('teal', 'violet', 'brown'),)</td>\n",
       "      <td>(('violet',), ('teal',), ('brown',))</td>\n",
       "      <td>the brown block is clear,  the hand is empty, ...</td>\n",
       "      <td>the violet block is on the table, the teal bl...</td>\n",
       "      <td>[PLAN]\\nunstack the brown block from on top of...</td>\n",
       "    </tr>\n",
       "    <tr>\n",
       "      <th>4</th>\n",
       "      <td>(('pink',), ('green', 'red'))</td>\n",
       "      <td>(('pink',), ('red', 'green'))</td>\n",
       "      <td>the brown block is clear,  the hand is empty, ...</td>\n",
       "      <td>the brown block is on the table, the violet b...</td>\n",
       "      <td>[PLAN]\\nunstack the brown block from on top of...</td>\n",
       "    </tr>\n",
       "    <tr>\n",
       "      <th>5</th>\n",
       "      <td>(('pink', 'green'), ('red',))</td>\n",
       "      <td>(('red', 'pink'), ('green',))</td>\n",
       "      <td>the violet block is clear, the brown block is ...</td>\n",
       "      <td>the violet block is on the table, the brown b...</td>\n",
       "      <td>[PLAN]\\nunstack the violet block from on top o...</td>\n",
       "    </tr>\n",
       "    <tr>\n",
       "      <th>6</th>\n",
       "      <td>(('violet',), ('teal',), ('brown',))</td>\n",
       "      <td>(('brown', 'teal', 'violet'),)</td>\n",
       "      <td>the pink block is clear, the red block is clea...</td>\n",
       "      <td>the pink block is on the table, the red block...</td>\n",
       "      <td>[PLAN]\\nunstack the pink block from on top of ...</td>\n",
       "    </tr>\n",
       "    <tr>\n",
       "      <th>7</th>\n",
       "      <td>(('brown', 'violet'), ('teal',))</td>\n",
       "      <td>(('teal', 'brown', 'violet'),)</td>\n",
       "      <td>the pink block is clear, the green block is cl...</td>\n",
       "      <td>the green block is on the table, the red bloc...</td>\n",
       "      <td>[PLAN]\\nunstack the green block from on top of...</td>\n",
       "    </tr>\n",
       "    <tr>\n",
       "      <th>8</th>\n",
       "      <td>(('pink',), ('red', 'green'))</td>\n",
       "      <td>(('green', 'pink'), ('red',))</td>\n",
       "      <td>the red block is clear, the green block is cle...</td>\n",
       "      <td>the green block is on the table, the pink blo...</td>\n",
       "      <td>[PLAN]\\nunstack the red block from on top of t...</td>\n",
       "    </tr>\n",
       "    <tr>\n",
       "      <th>9</th>\n",
       "      <td>(('green', 'pink'), ('red',))</td>\n",
       "      <td>(('red', 'pink'), ('green',))</td>\n",
       "      <td>the violet block is clear, the teal block is c...</td>\n",
       "      <td>the violet block is on the table, the brown b...</td>\n",
       "      <td>[PLAN]\\nunstack the teal block from on top of ...</td>\n",
       "    </tr>\n",
       "    <tr>\n",
       "      <th>10</th>\n",
       "      <td>(('brown', 'violet'), ('teal',))</td>\n",
       "      <td>(('teal', 'violet', 'brown'),)</td>\n",
       "      <td>the green block is clear, the red block is cle...</td>\n",
       "      <td>the pink block is on the table, the green blo...</td>\n",
       "      <td>[PLAN]\\npick up the red block\\nstack the red b...</td>\n",
       "    </tr>\n",
       "    <tr>\n",
       "      <th>11</th>\n",
       "      <td>(('red', 'pink', 'green'),)</td>\n",
       "      <td>(('red', 'green', 'pink'),)</td>\n",
       "      <td>the violet block is clear, the brown block is ...</td>\n",
       "      <td>the brown block is on the table, the teal blo...</td>\n",
       "      <td>[PLAN]\\nunstack the brown block from on top of...</td>\n",
       "    </tr>\n",
       "    <tr>\n",
       "      <th>12</th>\n",
       "      <td>(('violet', 'brown'), ('teal',))</td>\n",
       "      <td>(('brown', 'violet'), ('teal',))</td>\n",
       "      <td>the violet block is clear,  the hand is empty,...</td>\n",
       "      <td>the brown block is on the table, the violet b...</td>\n",
       "      <td>[PLAN]\\nunstack the violet block from on top o...</td>\n",
       "    </tr>\n",
       "    <tr>\n",
       "      <th>13</th>\n",
       "      <td>(('violet', 'teal', 'brown'),)</td>\n",
       "      <td>(('brown', 'teal', 'violet'),)</td>\n",
       "      <td>the teal block is clear,  the hand is empty, t...</td>\n",
       "      <td>the violet block is on the table, the brown b...</td>\n",
       "      <td>[PLAN]\\nunstack the teal block from on top of ...</td>\n",
       "    </tr>\n",
       "    <tr>\n",
       "      <th>14</th>\n",
       "      <td>(('pink', 'green'), ('red',))</td>\n",
       "      <td>(('pink', 'red'), ('green',))</td>\n",
       "      <td>the green block is clear,  the hand is empty, ...</td>\n",
       "      <td>the green block is on the table, the pink blo...</td>\n",
       "      <td>[PLAN]\\nunstack the green block from on top of...</td>\n",
       "    </tr>\n",
       "  </tbody>\n",
       "</table>\n",
       "</div>"
      ],
      "text/plain": [
       "                                    init  \\\n",
       "0         (('violet', 'teal', 'brown'),)   \n",
       "1            (('red', 'pink', 'green'),)   \n",
       "2            (('pink', 'red', 'green'),)   \n",
       "3         (('teal', 'violet', 'brown'),)   \n",
       "4          (('pink',), ('green', 'red'))   \n",
       "5          (('pink', 'green'), ('red',))   \n",
       "6   (('violet',), ('teal',), ('brown',))   \n",
       "7       (('brown', 'violet'), ('teal',))   \n",
       "8          (('pink',), ('red', 'green'))   \n",
       "9          (('green', 'pink'), ('red',))   \n",
       "10      (('brown', 'violet'), ('teal',))   \n",
       "11           (('red', 'pink', 'green'),)   \n",
       "12      (('violet', 'brown'), ('teal',))   \n",
       "13        (('violet', 'teal', 'brown'),)   \n",
       "14         (('pink', 'green'), ('red',))   \n",
       "\n",
       "                                    goal  \\\n",
       "0   (('violet',), ('teal',), ('brown',))   \n",
       "1          (('pink',), ('red', 'green'))   \n",
       "2          (('red', 'pink'), ('green',))   \n",
       "3   (('violet',), ('teal',), ('brown',))   \n",
       "4          (('pink',), ('red', 'green'))   \n",
       "5          (('red', 'pink'), ('green',))   \n",
       "6         (('brown', 'teal', 'violet'),)   \n",
       "7         (('teal', 'brown', 'violet'),)   \n",
       "8          (('green', 'pink'), ('red',))   \n",
       "9          (('red', 'pink'), ('green',))   \n",
       "10        (('teal', 'violet', 'brown'),)   \n",
       "11           (('red', 'green', 'pink'),)   \n",
       "12      (('brown', 'violet'), ('teal',))   \n",
       "13        (('brown', 'teal', 'violet'),)   \n",
       "14         (('pink', 'red'), ('green',))   \n",
       "\n",
       "                                            demo_init  \\\n",
       "0   the green block is clear,  the hand is empty, ...   \n",
       "1   the pink block is clear, the red block is clea...   \n",
       "2   the violet block is clear,  the hand is empty,...   \n",
       "3   the brown block is clear,  the hand is empty, ...   \n",
       "4   the brown block is clear,  the hand is empty, ...   \n",
       "5   the violet block is clear, the brown block is ...   \n",
       "6   the pink block is clear, the red block is clea...   \n",
       "7   the pink block is clear, the green block is cl...   \n",
       "8   the red block is clear, the green block is cle...   \n",
       "9   the violet block is clear, the teal block is c...   \n",
       "10  the green block is clear, the red block is cle...   \n",
       "11  the violet block is clear, the brown block is ...   \n",
       "12  the violet block is clear,  the hand is empty,...   \n",
       "13  the teal block is clear,  the hand is empty, t...   \n",
       "14  the green block is clear,  the hand is empty, ...   \n",
       "\n",
       "                                            demo_goal  \\\n",
       "0    the green block is on the table, the red bloc...   \n",
       "1    the red block is on the table, the pink block...   \n",
       "2    the teal block is on the table, the violet bl...   \n",
       "3    the violet block is on the table, the teal bl...   \n",
       "4    the brown block is on the table, the violet b...   \n",
       "5    the violet block is on the table, the brown b...   \n",
       "6    the pink block is on the table, the red block...   \n",
       "7    the green block is on the table, the red bloc...   \n",
       "8    the green block is on the table, the pink blo...   \n",
       "9    the violet block is on the table, the brown b...   \n",
       "10   the pink block is on the table, the green blo...   \n",
       "11   the brown block is on the table, the teal blo...   \n",
       "12   the brown block is on the table, the violet b...   \n",
       "13   the violet block is on the table, the brown b...   \n",
       "14   the green block is on the table, the pink blo...   \n",
       "\n",
       "                                            demo_plan  \n",
       "0   [PLAN]\\nunstack the green block from on top of...  \n",
       "1   [PLAN]\\nunstack the pink block from on top of ...  \n",
       "2   [PLAN]\\nunstack the violet block from on top o...  \n",
       "3   [PLAN]\\nunstack the brown block from on top of...  \n",
       "4   [PLAN]\\nunstack the brown block from on top of...  \n",
       "5   [PLAN]\\nunstack the violet block from on top o...  \n",
       "6   [PLAN]\\nunstack the pink block from on top of ...  \n",
       "7   [PLAN]\\nunstack the green block from on top of...  \n",
       "8   [PLAN]\\nunstack the red block from on top of t...  \n",
       "9   [PLAN]\\nunstack the teal block from on top of ...  \n",
       "10  [PLAN]\\npick up the red block\\nstack the red b...  \n",
       "11  [PLAN]\\nunstack the brown block from on top of...  \n",
       "12  [PLAN]\\nunstack the violet block from on top o...  \n",
       "13  [PLAN]\\nunstack the teal block from on top of ...  \n",
       "14  [PLAN]\\nunstack the green block from on top of...  "
      ]
     },
     "execution_count": 322,
     "metadata": {},
     "output_type": "execute_result"
    }
   ],
   "source": [
    "#load data for OUR dataset\n",
    "import pandas as pd\n",
    "n=3\n",
    "df=pd.read_csv(f'../data/Oneshot_val_{n}_blocks')\n",
    "df.drop(columns='Unnamed: 0',inplace=True)\n",
    "df"
   ]
  },
  {
   "cell_type": "code",
   "execution_count": 323,
   "id": "aed58f5b",
   "metadata": {},
   "outputs": [],
   "source": [
    "# df=df[1:2]\n",
    "# df"
   ]
  },
  {
   "cell_type": "code",
   "execution_count": 324,
   "id": "3eeef1c7",
   "metadata": {},
   "outputs": [
    {
     "data": {
      "text/plain": [
       "(15, 5)"
      ]
     },
     "execution_count": 324,
     "metadata": {},
     "output_type": "execute_result"
    }
   ],
   "source": [
    "df.shape"
   ]
  },
  {
   "cell_type": "code",
   "execution_count": null,
   "id": "7343e0d2",
   "metadata": {},
   "outputs": [],
   "source": [
    "response=main_fullSol(df,model='Qwen/Qwen2.5-7B-Instruct',temp=0.7)"
   ]
  },
  {
   "cell_type": "code",
   "execution_count": 326,
   "id": "c43645b1",
   "metadata": {},
   "outputs": [],
   "source": [
    "metrics_df=response[0]\n",
    "c_rate=response[1]"
   ]
  },
  {
   "cell_type": "code",
   "execution_count": 246,
   "id": "2f12bcea",
   "metadata": {},
   "outputs": [],
   "source": [
    "# print(f\"How many attempts made to get a plan: {num_tries}\"\n",
    "#     f\"\\nWas the plan well-structured: {well_struct}\"\n",
    "#     f\"\\nDifference btw (proposed plan - gold plan): {diff_planlen}\"\n",
    "#     f\"\\nModel solution's verdict: {results}\")"
   ]
  },
  {
   "cell_type": "code",
   "execution_count": 327,
   "id": "2e799678",
   "metadata": {},
   "outputs": [
    {
     "data": {
      "text/html": [
       "<div>\n",
       "<style scoped>\n",
       "    .dataframe tbody tr th:only-of-type {\n",
       "        vertical-align: middle;\n",
       "    }\n",
       "\n",
       "    .dataframe tbody tr th {\n",
       "        vertical-align: top;\n",
       "    }\n",
       "\n",
       "    .dataframe thead th {\n",
       "        text-align: right;\n",
       "    }\n",
       "</style>\n",
       "<table border=\"1\" class=\"dataframe\">\n",
       "  <thead>\n",
       "    <tr style=\"text-align: right;\">\n",
       "      <th></th>\n",
       "      <th>Attempts</th>\n",
       "      <th>Structured</th>\n",
       "      <th>Diff in plan length</th>\n",
       "      <th>Terminate</th>\n",
       "      <th>Action-steps away from goal</th>\n",
       "      <th>Action-steps in GOLD standard</th>\n",
       "    </tr>\n",
       "  </thead>\n",
       "  <tbody>\n",
       "    <tr>\n",
       "      <th>0</th>\n",
       "      <td>1</td>\n",
       "      <td>True</td>\n",
       "      <td>-inf</td>\n",
       "      <td>False</td>\n",
       "      <td>4</td>\n",
       "      <td>4</td>\n",
       "    </tr>\n",
       "    <tr>\n",
       "      <th>1</th>\n",
       "      <td>1</td>\n",
       "      <td>True</td>\n",
       "      <td>-inf</td>\n",
       "      <td>False</td>\n",
       "      <td>2</td>\n",
       "      <td>6</td>\n",
       "    </tr>\n",
       "    <tr>\n",
       "      <th>2</th>\n",
       "      <td>1</td>\n",
       "      <td>True</td>\n",
       "      <td>-inf</td>\n",
       "      <td>False</td>\n",
       "      <td>4</td>\n",
       "      <td>6</td>\n",
       "    </tr>\n",
       "    <tr>\n",
       "      <th>3</th>\n",
       "      <td>1</td>\n",
       "      <td>True</td>\n",
       "      <td>-inf</td>\n",
       "      <td>False</td>\n",
       "      <td>4</td>\n",
       "      <td>4</td>\n",
       "    </tr>\n",
       "    <tr>\n",
       "      <th>4</th>\n",
       "      <td>1</td>\n",
       "      <td>True</td>\n",
       "      <td>-inf</td>\n",
       "      <td>False</td>\n",
       "      <td>2</td>\n",
       "      <td>4</td>\n",
       "    </tr>\n",
       "    <tr>\n",
       "      <th>5</th>\n",
       "      <td>1</td>\n",
       "      <td>True</td>\n",
       "      <td>-inf</td>\n",
       "      <td>False</td>\n",
       "      <td>4</td>\n",
       "      <td>4</td>\n",
       "    </tr>\n",
       "    <tr>\n",
       "      <th>6</th>\n",
       "      <td>2</td>\n",
       "      <td>True</td>\n",
       "      <td>-inf</td>\n",
       "      <td>False</td>\n",
       "      <td>6</td>\n",
       "      <td>4</td>\n",
       "    </tr>\n",
       "    <tr>\n",
       "      <th>7</th>\n",
       "      <td>1</td>\n",
       "      <td>True</td>\n",
       "      <td>-inf</td>\n",
       "      <td>False</td>\n",
       "      <td>0</td>\n",
       "      <td>6</td>\n",
       "    </tr>\n",
       "    <tr>\n",
       "      <th>8</th>\n",
       "      <td>1</td>\n",
       "      <td>True</td>\n",
       "      <td>-inf</td>\n",
       "      <td>False</td>\n",
       "      <td>4</td>\n",
       "      <td>4</td>\n",
       "    </tr>\n",
       "    <tr>\n",
       "      <th>9</th>\n",
       "      <td>1</td>\n",
       "      <td>True</td>\n",
       "      <td>-inf</td>\n",
       "      <td>False</td>\n",
       "      <td>6</td>\n",
       "      <td>2</td>\n",
       "    </tr>\n",
       "    <tr>\n",
       "      <th>10</th>\n",
       "      <td>1</td>\n",
       "      <td>True</td>\n",
       "      <td>-inf</td>\n",
       "      <td>False</td>\n",
       "      <td>4</td>\n",
       "      <td>4</td>\n",
       "    </tr>\n",
       "    <tr>\n",
       "      <th>11</th>\n",
       "      <td>1</td>\n",
       "      <td>True</td>\n",
       "      <td>-inf</td>\n",
       "      <td>False</td>\n",
       "      <td>8</td>\n",
       "      <td>8</td>\n",
       "    </tr>\n",
       "    <tr>\n",
       "      <th>12</th>\n",
       "      <td>1</td>\n",
       "      <td>True</td>\n",
       "      <td>-inf</td>\n",
       "      <td>False</td>\n",
       "      <td>6</td>\n",
       "      <td>4</td>\n",
       "    </tr>\n",
       "    <tr>\n",
       "      <th>13</th>\n",
       "      <td>1</td>\n",
       "      <td>True</td>\n",
       "      <td>-inf</td>\n",
       "      <td>False</td>\n",
       "      <td>6</td>\n",
       "      <td>6</td>\n",
       "    </tr>\n",
       "    <tr>\n",
       "      <th>14</th>\n",
       "      <td>1</td>\n",
       "      <td>True</td>\n",
       "      <td>-inf</td>\n",
       "      <td>False</td>\n",
       "      <td>0</td>\n",
       "      <td>4</td>\n",
       "    </tr>\n",
       "  </tbody>\n",
       "</table>\n",
       "</div>"
      ],
      "text/plain": [
       "    Attempts  Structured  Diff in plan length  Terminate  \\\n",
       "0          1        True                 -inf      False   \n",
       "1          1        True                 -inf      False   \n",
       "2          1        True                 -inf      False   \n",
       "3          1        True                 -inf      False   \n",
       "4          1        True                 -inf      False   \n",
       "5          1        True                 -inf      False   \n",
       "6          2        True                 -inf      False   \n",
       "7          1        True                 -inf      False   \n",
       "8          1        True                 -inf      False   \n",
       "9          1        True                 -inf      False   \n",
       "10         1        True                 -inf      False   \n",
       "11         1        True                 -inf      False   \n",
       "12         1        True                 -inf      False   \n",
       "13         1        True                 -inf      False   \n",
       "14         1        True                 -inf      False   \n",
       "\n",
       "    Action-steps away from goal  Action-steps in GOLD standard  \n",
       "0                             4                              4  \n",
       "1                             2                              6  \n",
       "2                             4                              6  \n",
       "3                             4                              4  \n",
       "4                             2                              4  \n",
       "5                             4                              4  \n",
       "6                             6                              4  \n",
       "7                             0                              6  \n",
       "8                             4                              4  \n",
       "9                             6                              2  \n",
       "10                            4                              4  \n",
       "11                            8                              8  \n",
       "12                            6                              4  \n",
       "13                            6                              6  \n",
       "14                            0                              4  "
      ]
     },
     "execution_count": 327,
     "metadata": {},
     "output_type": "execute_result"
    }
   ],
   "source": [
    "metrics_df"
   ]
  },
  {
   "cell_type": "code",
   "execution_count": 248,
   "id": "112e0c57",
   "metadata": {},
   "outputs": [
    {
     "name": "stdout",
     "output_type": "stream",
     "text": [
      "Correctness rate : 0.00\n"
     ]
    }
   ],
   "source": [
    "print(f'Correctness rate : {c_rate}')"
   ]
  },
  {
   "cell_type": "code",
   "execution_count": 20,
   "id": "63a6baa5",
   "metadata": {},
   "outputs": [],
   "source": [
    "problem=bw.BlocksworldProblem()"
   ]
  },
  {
   "cell_type": "code",
   "execution_count": 38,
   "id": "1e385ceb",
   "metadata": {},
   "outputs": [
    {
     "data": {
      "text/plain": [
       "'green'"
      ]
     },
     "execution_count": 38,
     "metadata": {},
     "output_type": "execute_result"
    }
   ],
   "source": [
    "BLOCK='green'\n",
    "blocks={'green':'green'}\n",
    "block=blocks.get(BLOCK)\n",
    "block"
   ]
  },
  {
   "cell_type": "code",
   "execution_count": 90,
   "id": "aae60e0a",
   "metadata": {},
   "outputs": [
    {
     "data": {
      "text/plain": [
       "15"
      ]
     },
     "execution_count": 90,
     "metadata": {},
     "output_type": "execute_result"
    }
   ],
   "source": [
    "len(df)"
   ]
  },
  {
   "cell_type": "code",
   "execution_count": null,
   "id": "65796b7b",
   "metadata": {},
   "outputs": [],
   "source": [
    "Qwen/Qwen2-72B-Instruct\n",
    "Qwen/Qwen2.5-7B-Instruct\n"
   ]
  },
  {
   "cell_type": "code",
   "execution_count": 262,
   "id": "2947ea0c",
   "metadata": {},
   "outputs": [
    {
     "ename": "NameError",
     "evalue": "name 'problem' is not defined",
     "output_type": "error",
     "traceback": [
      "\u001b[0;31m---------------------------------------------------------------------------\u001b[0m",
      "\u001b[0;31mNameError\u001b[0m                                 Traceback (most recent call last)",
      "Cell \u001b[0;32mIn[262], line 1\u001b[0m\n\u001b[0;32m----> 1\u001b[0m sim\u001b[39m=\u001b[39mproblem\u001b[39m.\u001b[39mcreate_seq_simulation()\n\u001b[1;32m      2\u001b[0m \u001b[39mwith\u001b[39;00m OneshotPlanner(problem_kind\u001b[39m=\u001b[39msim\u001b[39m.\u001b[39mkind) \u001b[39mas\u001b[39;00m planner:\n\u001b[1;32m      3\u001b[0m   res \u001b[39m=\u001b[39m planner\u001b[39m.\u001b[39msolve(sim)\n",
      "\u001b[0;31mNameError\u001b[0m: name 'problem' is not defined"
     ]
    }
   ],
   "source": []
  },
  {
   "cell_type": "code",
   "execution_count": null,
   "id": "3dcc03ed",
   "metadata": {},
   "outputs": [],
   "source": []
  }
 ],
 "metadata": {
  "kernelspec": {
   "display_name": "base311",
   "language": "python",
   "name": "python3"
  },
  "language_info": {
   "codemirror_mode": {
    "name": "ipython",
    "version": 3
   },
   "file_extension": ".py",
   "mimetype": "text/x-python",
   "name": "python",
   "nbconvert_exporter": "python",
   "pygments_lexer": "ipython3",
   "version": "3.11.11"
  }
 },
 "nbformat": 4,
 "nbformat_minor": 5
}
