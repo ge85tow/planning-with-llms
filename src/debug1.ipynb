{
 "cells": [
  {
   "cell_type": "code",
   "execution_count": 1,
   "id": "d82b7f78-567f-4c29-951c-95efc610cabd",
   "metadata": {},
   "outputs": [],
   "source": [
    "from unified_planning.shortcuts import *\n",
    "from unified_planning.plans import *\n",
    "from importlib import reload"
   ]
  },
  {
   "cell_type": "code",
   "execution_count": 32,
   "id": "7280fc06-fa4d-4fd9-a9a8-a2895f086e22",
   "metadata": {},
   "outputs": [],
   "source": [
    "import unifiedplanning_blocksworld as bw\n",
    "import prompts\n",
    "import planbench as pb\n",
    "import policy_model as pm\n",
    "import llm_utils"
   ]
  },
  {
   "cell_type": "code",
   "execution_count": 24,
   "id": "c1845153-78ff-4a0a-9f60-cb97a518e1b4",
   "metadata": {},
   "outputs": [
    {
     "data": {
      "text/plain": [
       "<module 'policy_model' from '/Users/matthiasgrabmair/git/planning-with-llms/src/policy_model.py'>"
      ]
     },
     "execution_count": 24,
     "metadata": {},
     "output_type": "execute_result"
    }
   ],
   "source": [
    "reload(bw)\n",
    "reload(pb)\n",
    "reload(pm)"
   ]
  },
  {
   "cell_type": "code",
   "execution_count": 19,
   "id": "97fd1466-dbc6-4724-9933-6c3ec72c3781",
   "metadata": {},
   "outputs": [],
   "source": [
    "p = bw.BlocksworldProblem()"
   ]
  },
  {
   "cell_type": "code",
   "execution_count": 20,
   "id": "406ae771-c57b-47d9-9597-613ac640f9db",
   "metadata": {},
   "outputs": [],
   "source": [
    "pb.parse_planbench_initial_condition(p, prompts.gen_problem_init)\n",
    "pb.parse_planbench_goal_state(p, prompts.gen_problem_goal)"
   ]
  },
  {
   "cell_type": "code",
   "execution_count": 30,
   "id": "a2c872a5",
   "metadata": {},
   "outputs": [],
   "source": [
    "reload(pm)\n",
    "pi = pm.PolicyModel()\n",
    "r = pi.next_action_one_shot(prompts.nextaction_problem_init, prompts.nextaction_problem_goal,\n",
    "                            prompts.nextaction_example_init, prompts.nextaction_example_goal)"
   ]
  },
  {
   "cell_type": "code",
   "execution_count": 36,
   "id": "415b9536",
   "metadata": {},
   "outputs": [
    {
     "data": {
      "text/plain": [
       "('unstack', 'blue', 'orange')"
      ]
     },
     "execution_count": 36,
     "metadata": {},
     "output_type": "execute_result"
    }
   ],
   "source": [
    "reload(llm_utils)\n",
    "llm_utils.parse_next_action_tuple(r)"
   ]
  },
  {
   "cell_type": "code",
   "execution_count": null,
   "id": "cd11b39e",
   "metadata": {},
   "outputs": [],
   "source": [
    "def solve(problem, pi, r):\n",
    "    plan = []\n",
    "    s = problem.s0\n",
    "    goal_reached = False\n",
    "    i = 0\n",
    "    max_iter = 10\n",
    "    while not(goal_reached) and i<max_iter:\n",
    "        action = pi.next_action_one_shot( ... )\n",
    "        # is action possible?\n",
    "        plan.append(action)\n",
    "        s_new = s.apply(action)\n",
    "        # check for completion, abort if completed\n",
    "        score = r.get_reward(s_new)\n",
    "        # later: use reward to choose among candidates\n"
   ]
  }
 ],
 "metadata": {
  "kernelspec": {
   "display_name": "base311",
   "language": "python",
   "name": "python3"
  },
  "language_info": {
   "codemirror_mode": {
    "name": "ipython",
    "version": 3
   },
   "file_extension": ".py",
   "mimetype": "text/x-python",
   "name": "python",
   "nbconvert_exporter": "python",
   "pygments_lexer": "ipython3",
   "version": "3.11.11"
  }
 },
 "nbformat": 4,
 "nbformat_minor": 5
}
