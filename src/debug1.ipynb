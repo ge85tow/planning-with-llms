{
 "cells": [
  {
   "cell_type": "code",
   "execution_count": 1,
   "id": "d82b7f78-567f-4c29-951c-95efc610cabd",
   "metadata": {},
   "outputs": [],
   "source": [
    "from unified_planning.shortcuts import *\n",
    "from unified_planning.plans import *\n",
    "from importlib import reload\n"
   ]
  },
  {
   "cell_type": "code",
   "execution_count": 2,
   "id": "7280fc06-fa4d-4fd9-a9a8-a2895f086e22",
   "metadata": {},
   "outputs": [],
   "source": [
    "import unifiedplanning_blocksworld as bw\n",
    "import prompts\n",
    "import planbench as pb\n",
    "import policy_model as policy\n",
    "import llm_utils"
   ]
  },
  {
   "cell_type": "code",
   "execution_count": 61,
   "id": "c1845153-78ff-4a0a-9f60-cb97a518e1b4",
   "metadata": {},
   "outputs": [
    {
     "data": {
      "text/plain": [
       "<module 'policy_model' from '/Users/akankshachawla/Desktop/WS-24-25/Thesis/planning-with-llms/src/policy_model.py'>"
      ]
     },
     "execution_count": 61,
     "metadata": {},
     "output_type": "execute_result"
    }
   ],
   "source": [
    "reload(bw)\n",
    "reload(pb)\n",
    "reload(policy)"
   ]
  },
  {
   "cell_type": "code",
   "execution_count": 114,
   "id": "97fd1466-dbc6-4724-9933-6c3ec72c3781",
   "metadata": {},
   "outputs": [],
   "source": [
    "problem = bw.BlocksworldProblem()"
   ]
  },
  {
   "cell_type": "code",
   "execution_count": 115,
   "id": "406ae771-c57b-47d9-9597-613ac640f9db",
   "metadata": {},
   "outputs": [
    {
     "name": "stdout",
     "output_type": "stream",
     "text": [
      "{clear(blue): true, clear(yellow): true, hand_empty: true, on(blue, orange): true, on(orange, red): true, on(blue, blue): false, on(yellow, blue): false, on(orange, blue): false, on(red, blue): false, on(blue, yellow): false, on(yellow, yellow): false, on(orange, yellow): false, on(red, yellow): false, on(yellow, orange): false, on(orange, orange): false, on(red, orange): false, on(blue, red): false, on(yellow, red): false, on(red, red): false, clear(orange): false, clear(red): false, holding(blue): false, holding(yellow): false, holding(orange): false, holding(red): false}\n"
     ]
    }
   ],
   "source": [
    "pb.parse_planbench_initial_condition(problem, prompts.nextaction_problem_init)\n",
    "pb.parse_planbench_goal_state(problem, prompts.nextaction_problem_goal)\n",
    "print(problem.initial_values)\n",
    "#initial vals ko vaapais readable mein translate karna hoga"
   ]
  },
  {
   "cell_type": "code",
   "execution_count": 11,
   "id": "a2c872a5",
   "metadata": {},
   "outputs": [
    {
     "name": "stdout",
     "output_type": "stream",
     "text": [
      "\n",
      "RESPONSE:\n",
      " Let's analyze the initial state and the goal state.\n",
      "\n",
      "Initial state:\n",
      "- The blue block is clear\n",
      "- The yellow block is clear\n",
      "- The hand is empty\n",
      "- The blue block is on top of the orange block\n",
      "- The orange block is on top of the red block\n",
      "- The red block is on the table\n",
      "- The yellow block is on the table\n",
      "\n",
      "Goal state:\n",
      "- The red block is on top of the orange block\n",
      "- The blue block is on top of the yellow block\n",
      "\n",
      "To achieve the goal state, I suggest the following next action:\n",
      "\n",
      "[NEXT ACTION] unstack the blue block from on top of the orange block [END NEXT ACTION]\n",
      "\n",
      "This action will make the blue block clear and available to be stacked on top of the yellow block later.\n"
     ]
    }
   ],
   "source": [
    "reload(policy)\n",
    "reload(prompts)\n",
    "pi = policy.PolicyModel()\n",
    "    # def next_action_one_shot(self, \n",
    "    #                          problem_init, problem_goal,problem_action_hist,  # the state S\n",
    "    #                          example_init, example_goal,example_action_hist,example_next_action)\n",
    "plan=[]\n",
    "action_tuple = pi.next_action_one_shot(prompts.nextaction_problem_init, prompts.nextaction_problem_goal,\n",
    "                                       plan,\n",
    "                                       prompts.nextaction_example_init, prompts.nextaction_example_goal,\n",
    "                                       prompts.nextaction_example_action_hist,prompts.nextaction_example_nextaction)\n"
   ]
  },
  {
   "cell_type": "code",
   "execution_count": 116,
   "id": "415b9536",
   "metadata": {},
   "outputs": [
    {
     "name": "stdout",
     "output_type": "stream",
     "text": [
      "('unstack', 'blue', 'orange')\n",
      "('blue', 'orange')\n",
      "unstack(blue, orange)\n"
     ]
    }
   ],
   "source": [
    "action_tuple=('unstack','blue','orange')\n",
    "print(action_tuple)\n",
    "next_action=problem.create_action(action=action_tuple[0],blocks=action_tuple[1:])\n",
    "print(next_action)"
   ]
  },
  {
   "cell_type": "code",
   "execution_count": 117,
   "id": "c9f8a8c2",
   "metadata": {},
   "outputs": [
    {
     "name": "stdout",
     "output_type": "stream",
     "text": [
      "{on(blue, orange): false, holding(blue): true, clear(orange): true, hand_empty: false, clear(blue): true, clear(yellow): true, on(orange, red): true, on(blue, blue): false, on(yellow, blue): false, on(orange, blue): false, on(red, blue): false, on(blue, yellow): false, on(yellow, yellow): false, on(orange, yellow): false, on(red, yellow): false, on(yellow, orange): false, on(orange, orange): false, on(red, orange): false, on(blue, red): false, on(yellow, red): false, on(red, red): false, clear(red): false, holding(yellow): false, holding(orange): false, holding(red): false}\n"
     ]
    }
   ],
   "source": [
    "simulation=problem.create_seq_simulation()\n",
    "current_state=simulation.get_initial_state()\n",
    "new_state=problem.validate_action(current_state,next_action,simulation)\n",
    "if(new_state):\n",
    "    print(new_state)\n",
    "else:\n",
    "    print('Invalid action proposed by policy')"
   ]
  },
  {
   "cell_type": "code",
   "execution_count": 127,
   "id": "b58ab39a",
   "metadata": {},
   "outputs": [],
   "source": [
    "#print(problem.goals)\n",
    "list_goals=[]\n",
    "for goal in problem.goals:\n",
    "    #print(goal)\n",
    "    list_goals.append(str(goal))\n",
    "#print(problem.fluent(\"on\"))"
   ]
  },
  {
   "cell_type": "code",
   "execution_count": 119,
   "id": "d83a93fb",
   "metadata": {},
   "outputs": [
    {
     "data": {
      "text/plain": [
       "['MAX_ANCESTORS',\n",
       " '__abstractmethods__',\n",
       " '__annotations__',\n",
       " '__class__',\n",
       " '__delattr__',\n",
       " '__dict__',\n",
       " '__dir__',\n",
       " '__doc__',\n",
       " '__eq__',\n",
       " '__format__',\n",
       " '__ge__',\n",
       " '__getattribute__',\n",
       " '__getstate__',\n",
       " '__gt__',\n",
       " '__hash__',\n",
       " '__init__',\n",
       " '__init_subclass__',\n",
       " '__le__',\n",
       " '__lt__',\n",
       " '__module__',\n",
       " '__ne__',\n",
       " '__new__',\n",
       " '__reduce__',\n",
       " '__reduce_ex__',\n",
       " '__repr__',\n",
       " '__setattr__',\n",
       " '__sizeof__',\n",
       " '__slots__',\n",
       " '__str__',\n",
       " '__subclasshook__',\n",
       " '__weakref__',\n",
       " '_abc_impl',\n",
       " '_ancestors',\n",
       " '_condense_state',\n",
       " '_father',\n",
       " '_hash',\n",
       " '_values',\n",
       " 'get_value',\n",
       " 'make_child']"
      ]
     },
     "execution_count": 119,
     "metadata": {},
     "output_type": "execute_result"
    }
   ],
   "source": [
    "dir(new_state)"
   ]
  },
  {
   "cell_type": "code",
   "execution_count": 120,
   "id": "9bd118d2",
   "metadata": {},
   "outputs": [
    {
     "ename": "TypeError",
     "evalue": "'UPState' object is not iterable",
     "output_type": "error",
     "traceback": [
      "\u001b[0;31m---------------------------------------------------------------------------\u001b[0m",
      "\u001b[0;31mTypeError\u001b[0m                                 Traceback (most recent call last)",
      "Cell \u001b[0;32mIn[120], line 1\u001b[0m\n\u001b[0;32m----> 1\u001b[0m \u001b[39mfor\u001b[39;49;00m element \u001b[39min\u001b[39;49;00m new_state:\n\u001b[1;32m      2\u001b[0m     \u001b[39mprint\u001b[39;49m(element,\u001b[39m'\u001b[39;49m\u001b[39m\\n\u001b[39;49;00m\u001b[39m'\u001b[39;49m)\n\u001b[1;32m      4\u001b[0m \u001b[39m# final_on_fluents = {fluent: value for fluent, value in new_state[Fluent] if fluent.fluent().name == \"on\"}\u001b[39;00m\n\u001b[1;32m      5\u001b[0m \u001b[39m# print(final_on_fluents)\u001b[39;00m\n",
      "\u001b[0;31mTypeError\u001b[0m: 'UPState' object is not iterable"
     ]
    }
   ],
   "source": [
    "for element in new_state:\n",
    "    print(element,'\\n')\n",
    "\n",
    "# final_on_fluents = {fluent: value for fluent, value in new_state[Fluent] if fluent.fluent().name == \"on\"}\n",
    "# print(final_on_fluents)"
   ]
  },
  {
   "cell_type": "code",
   "execution_count": 121,
   "id": "7b2bd79e",
   "metadata": {},
   "outputs": [
    {
     "name": "stdout",
     "output_type": "stream",
     "text": [
      "[on(blue, orange), holding(blue), clear(orange), hand_empty, clear(blue), clear(yellow), on(orange, red), on(blue, blue), on(yellow, blue), on(orange, blue), on(red, blue), on(blue, yellow), on(yellow, yellow), on(orange, yellow), on(red, yellow), on(yellow, orange), on(orange, orange), on(red, orange), on(blue, red), on(yellow, red), on(red, red), clear(red), holding(yellow), holding(orange), holding(red)]\n"
     ]
    }
   ],
   "source": [
    "print(list(new_state._values))\n",
    "state_values=list(new_state._values)\n",
    "# for fluent in problem.fluents:\n",
    "#     value = new_state.get_value(fluent)\n",
    "#     print(f\"{fluent}: {value}\")\n"
   ]
  },
  {
   "cell_type": "code",
   "execution_count": 129,
   "id": "41b32c5b",
   "metadata": {},
   "outputs": [
    {
     "name": "stdout",
     "output_type": "stream",
     "text": [
      "on(blue, yellow)\n",
      "on(red, orange)\n"
     ]
    }
   ],
   "source": [
    "for element in state_values:\n",
    "    #if element==problem.fluent(\"on\"):\n",
    "    #print(str(element),'\\n')\n",
    "    string_f=str(element)\n",
    "    if string_f in list_goals:\n",
    "        print(string_f)\n",
    "#print(on_fluent)\n",
    "# reload(bw)\n",
    "# on_exp=FluentExp(problem.get_on())"
   ]
  },
  {
   "cell_type": "code",
   "execution_count": null,
   "id": "cd11b39e",
   "metadata": {},
   "outputs": [],
   "source": [
    "def solve(problem, pi, r):\n",
    "    plan = []\n",
    "    s = problem.\n",
    "    goal_reached = False\n",
    "    i = 0\n",
    "    max_iter = 10\n",
    "    while not(goal_reached) and i<max_iter:\n",
    "        action = pi.next_action_one_shot( ... ) \n",
    "        # is action possible?\n",
    "        plan.append(action)\n",
    "        s_new = s.apply(action)\n",
    "        # check for completion, abort if completed\n",
    "        score = r.get_reward(s_new)\n",
    "        # later: use reward to choose among candidates\n",
    "\n",
    "#maintain action history\n",
    "#pass this history and get model to act on it \n",
    "#then check possibiliy of action"
   ]
  }
 ],
 "metadata": {
  "kernelspec": {
   "display_name": "base311",
   "language": "python",
   "name": "python3"
  },
  "language_info": {
   "codemirror_mode": {
    "name": "ipython",
    "version": 3
   },
   "file_extension": ".py",
   "mimetype": "text/x-python",
   "name": "python",
   "nbconvert_exporter": "python",
   "pygments_lexer": "ipython3",
   "version": "3.11.11"
  }
 },
 "nbformat": 4,
 "nbformat_minor": 5
}
