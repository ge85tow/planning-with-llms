{
 "cells": [
  {
   "cell_type": "code",
   "execution_count": 1,
   "id": "d82b7f78-567f-4c29-951c-95efc610cabd",
   "metadata": {},
   "outputs": [],
   "source": [
    "from unified_planning.shortcuts import *\n",
    "from unified_planning.plans import *\n",
    "from importlib import reload"
   ]
  },
  {
   "cell_type": "code",
   "execution_count": 2,
   "id": "7280fc06-fa4d-4fd9-a9a8-a2895f086e22",
   "metadata": {},
   "outputs": [],
   "source": [
    "import unifiedplanning_blocksworld as bw\n",
    "import prompts\n",
    "import planbench as pb"
   ]
  },
  {
   "cell_type": "code",
   "execution_count": 3,
   "id": "c1845153-78ff-4a0a-9f60-cb97a518e1b4",
   "metadata": {},
   "outputs": [
    {
     "data": {
      "text/plain": [
       "<module 'planbench' from '/Users/matthiasgrabmair/git/planning-with-llms/src/planbench.py'>"
      ]
     },
     "execution_count": 3,
     "metadata": {},
     "output_type": "execute_result"
    }
   ],
   "source": [
    "reload(bw)\n",
    "reload(pb)"
   ]
  },
  {
   "cell_type": "code",
   "execution_count": 4,
   "id": "97fd1466-dbc6-4724-9933-6c3ec72c3781",
   "metadata": {},
   "outputs": [],
   "source": [
    "p = bw.BlocksworldProblem()"
   ]
  },
  {
   "cell_type": "code",
   "execution_count": 5,
   "id": "406ae771-c57b-47d9-9597-613ac640f9db",
   "metadata": {},
   "outputs": [],
   "source": [
    "pb.parse_planbench_initial_condition(p, prompts.gen_problem_init)\n",
    "pb.parse_planbench_goal_state(p, prompts.gen_problem_goal)"
   ]
  },
  {
   "cell_type": "code",
   "execution_count": 6,
   "id": "81f72851-bfb9-4fd1-a83d-7b94f2948b5f",
   "metadata": {},
   "outputs": [
    {
     "name": "stdout",
     "output_type": "stream",
     "text": [
      "\u001b[96m\u001b[1mNOTE: To disable printing of planning engine credits, add this line to your code: `up.shortcuts.get_environment().credits_stream = None`\n",
      "\u001b[0m\u001b[96m  *** Credits ***\n",
      "\u001b[0m\u001b[96m  * In operation mode `OneshotPlanner` at line 94 of `/Users/matthiasgrabmair/git/planning-with-llms/src/unifiedplanning_blocksworld.py`, \u001b[0m\u001b[96myou are using the following planning engine:\n",
      "\u001b[0m\u001b[96m  * Engine name: pyperplan\n",
      "  * Developers:  Albert-Ludwigs-Universität Freiburg (Yusra Alkhazraji, Matthias Frorath, Markus Grützner, Malte Helmert, Thomas Liebetraut, Robert Mattmüller, Manuela Ortlieb, Jendrik Seipp, Tobias Springenberg, Philip Stahl, Jan Wülfing)\n",
      "\u001b[0m\u001b[96m  * Description: \u001b[0m\u001b[96mPyperplan is a lightweight STRIPS planner written in Python.\u001b[0m\u001b[96m\n",
      "\u001b[0m\u001b[96m\n",
      "\u001b[0m##########Pyperplan returned: SequentialPlan:\n",
      "    unstack(blue, orange)\n",
      "    stack(blue, yellow)\n",
      "    unstack(orange, red)\n",
      "    put_down(orange)\n",
      "    pick_up(red)\n",
      "    stack(red, orange)############\n",
      "########PlanKind.SEQUENTIAL_PLAN#######\n"
     ]
    },
    {
     "name": "stderr",
     "output_type": "stream",
     "text": [
      "/Users/matthiasgrabmair/miniconda3/envs/base311/lib/python3.11/site-packages/unified_planning/engines/mixins/oneshot_planner.py:76: UserWarning: We cannot establish whether Pyperplan can solve this problem!\n",
      "  warn(msg)\n"
     ]
    },
    {
     "data": {
      "text/plain": [
       "PlanGenerationResult(status=<PlanGenerationResultStatus.SOLVED_SATISFICING: 1>, plan=SequentialPlan([unstack(blue, orange), stack(blue, yellow), unstack(orange, red), put_down(orange), pick_up(red), stack(red, orange)]), engine_name='Pyperplan', metrics={'engine_internal_time': '0.002317190170288086'}, log_messages=None)"
      ]
     },
     "execution_count": 6,
     "metadata": {},
     "output_type": "execute_result"
    }
   ],
   "source": [
    "p.generate_plan()"
   ]
  },
  {
   "cell_type": "code",
   "execution_count": null,
   "id": "a0d04b68",
   "metadata": {},
   "outputs": [],
   "source": []
  }
 ],
 "metadata": {
  "kernelspec": {
   "display_name": "Python 3 (ipykernel)",
   "language": "python",
   "name": "python3"
  },
  "language_info": {
   "codemirror_mode": {
    "name": "ipython",
    "version": 3
   },
   "file_extension": ".py",
   "mimetype": "text/x-python",
   "name": "python",
   "nbconvert_exporter": "python",
   "pygments_lexer": "ipython3",
   "version": "3.11.11"
  }
 },
 "nbformat": 4,
 "nbformat_minor": 5
}
