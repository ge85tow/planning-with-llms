{
 "cells": [
  {
   "cell_type": "code",
   "execution_count": 7,
   "id": "d82b7f78-567f-4c29-951c-95efc610cabd",
   "metadata": {},
   "outputs": [],
   "source": [
    "from unified_planning.shortcuts import *\n",
    "from unified_planning.plans import *\n",
    "from importlib import reload"
   ]
  },
  {
   "cell_type": "code",
   "execution_count": 8,
   "id": "7280fc06-fa4d-4fd9-a9a8-a2895f086e22",
   "metadata": {},
   "outputs": [],
   "source": [
    "import unifiedplanning_blocksworld as bw\n",
    "import prompts\n",
    "import planbench as pb\n",
    "import policy_model as policy\n",
    "import llm_utils\n",
    "import data_loader\n",
    "import pandas as pd\n",
    "import regex as re"
   ]
  },
  {
   "cell_type": "code",
   "execution_count": 22,
   "id": "a92f56a6",
   "metadata": {},
   "outputs": [
    {
     "data": {
      "text/plain": [
       "<module 'data_loader' from '/Users/akankshachawla/Desktop/WS-24-25/Thesis/planning-with-llms/src/data_loader.py'>"
      ]
     },
     "execution_count": 22,
     "metadata": {},
     "output_type": "execute_result"
    }
   ],
   "source": [
    "reload(policy)\n",
    "reload(prompts)\n",
    "reload(bw)\n",
    "reload(pb)\n",
    "reload(llm_utils)\n",
    "reload(data_loader)"
   ]
  },
  {
   "cell_type": "code",
   "execution_count": 10,
   "id": "97fd1466-dbc6-4724-9933-6c3ec72c3781",
   "metadata": {},
   "outputs": [],
   "source": [
    "problem = bw.BlocksworldProblem()"
   ]
  },
  {
   "cell_type": "code",
   "execution_count": 81,
   "id": "406ae771-c57b-47d9-9597-613ac640f9db",
   "metadata": {},
   "outputs": [
    {
     "name": "stdout",
     "output_type": "stream",
     "text": [
      "{clear(blue): true, clear(yellow): true, hand_empty: true, on(blue, orange): true, on(orange, red): true, on(blue, blue): false, on(yellow, blue): false, on(orange, blue): false, on(red, blue): false, on(blue, yellow): false, on(yellow, yellow): false, on(orange, yellow): false, on(red, yellow): false, on(yellow, orange): false, on(orange, orange): false, on(red, orange): false, on(blue, red): false, on(yellow, red): false, on(red, red): false, clear(orange): false, clear(red): false, holding(blue): false, holding(yellow): false, holding(orange): false, holding(red): false}\n"
     ]
    }
   ],
   "source": [
    "pb.parse_planbench_initial_condition(problem, prompts.nextaction_problem_init)\n",
    "pb.parse_planbench_goal_state(problem, prompts.nextaction_problem_goal)\n",
    "print(problem.initial_values)\n",
    "#initial vals ko vaapais readable mein translate karna hoga"
   ]
  },
  {
   "cell_type": "code",
   "execution_count": 11,
   "id": "a2c872a5",
   "metadata": {},
   "outputs": [
    {
     "name": "stdout",
     "output_type": "stream",
     "text": [
      "\n",
      "RESPONSE:\n",
      " Let's analyze the initial state and the goal state.\n",
      "\n",
      "Initial state:\n",
      "- The blue block is clear\n",
      "- The yellow block is clear\n",
      "- The hand is empty\n",
      "- The blue block is on top of the orange block\n",
      "- The orange block is on top of the red block\n",
      "- The red block is on the table\n",
      "- The yellow block is on the table\n",
      "\n",
      "Goal state:\n",
      "- The red block is on top of the orange block\n",
      "- The blue block is on top of the yellow block\n",
      "\n",
      "To achieve the goal state, I suggest the following next action:\n",
      "\n",
      "[NEXT ACTION] unstack the blue block from on top of the orange block [END NEXT ACTION]\n",
      "\n",
      "This action will make the blue block clear and available to be stacked on top of the yellow block later.\n"
     ]
    }
   ],
   "source": [
    "\n",
    "pi = policy.PolicyModel()\n",
    "    # def next_action_one_shot(self, \n",
    "    #                          problem_init, problem_goal,problem_action_hist,  # the state S\n",
    "    #                          example_init, example_goal,example_action_hist,example_next_action)\n",
    "plan=[]\n",
    "action_tuple = pi.next_action_one_shot(prompts.nextaction_problem_init, prompts.nextaction_problem_goal,\n",
    "                                       plan,\n",
    "                                       prompts.nextaction_example_init, prompts.nextaction_example_goal,\n",
    "                                       prompts.nextaction_example_action_hist,prompts.nextaction_example_nextaction)\n"
   ]
  },
  {
   "cell_type": "code",
   "execution_count": 82,
   "id": "415b9536",
   "metadata": {},
   "outputs": [
    {
     "name": "stdout",
     "output_type": "stream",
     "text": [
      "('unstack', 'blue', 'orange')\n",
      "('blue', 'orange')\n",
      "unstack(blue, orange)\n"
     ]
    }
   ],
   "source": [
    "action_tuple=('unstack','blue','orange')\n",
    "print(action_tuple)\n",
    "next_action=problem.create_action(action=action_tuple[0],blocks=action_tuple[1:])\n",
    "print(next_action)"
   ]
  },
  {
   "cell_type": "code",
   "execution_count": 83,
   "id": "c9f8a8c2",
   "metadata": {},
   "outputs": [
    {
     "name": "stdout",
     "output_type": "stream",
     "text": [
      "{on(blue, orange): false, holding(blue): true, clear(orange): true, hand_empty: false, clear(blue): true, clear(yellow): true, on(orange, red): true, on(blue, blue): false, on(yellow, blue): false, on(orange, blue): false, on(red, blue): false, on(blue, yellow): false, on(yellow, yellow): false, on(orange, yellow): false, on(red, yellow): false, on(yellow, orange): false, on(orange, orange): false, on(red, orange): false, on(blue, red): false, on(yellow, red): false, on(red, red): false, clear(red): false, holding(yellow): false, holding(orange): false, holding(red): false}\n"
     ]
    }
   ],
   "source": [
    "simulation=problem.create_seq_simulation()\n",
    "current_state=simulation.get_initial_state()\n",
    "new_state=problem.validate_action(current_state,next_action,simulation)\n",
    "if(new_state):\n",
    "    print(new_state)\n",
    "else:\n",
    "    print('Invalid action proposed by policy')"
   ]
  },
  {
   "cell_type": "code",
   "execution_count": 85,
   "id": "b58ab39a",
   "metadata": {},
   "outputs": [
    {
     "data": {
      "text/plain": [
       "['on(red, orange)', 'on(blue, yellow)']"
      ]
     },
     "execution_count": 85,
     "metadata": {},
     "output_type": "execute_result"
    }
   ],
   "source": [
    "#print(problem.goals)\n",
    "list_goals=[]\n",
    "for goal in problem.goals:\n",
    "    list_goals.append(str(goal))\n",
    "list_goals"
   ]
  },
  {
   "cell_type": "code",
   "execution_count": 86,
   "id": "67f1e815",
   "metadata": {},
   "outputs": [
    {
     "data": {
      "text/plain": [
       "['MAX_ANCESTORS',\n",
       " '__abstractmethods__',\n",
       " '__annotations__',\n",
       " '__class__',\n",
       " '__delattr__',\n",
       " '__dict__',\n",
       " '__dir__',\n",
       " '__doc__',\n",
       " '__eq__',\n",
       " '__format__',\n",
       " '__ge__',\n",
       " '__getattribute__',\n",
       " '__getstate__',\n",
       " '__gt__',\n",
       " '__hash__',\n",
       " '__init__',\n",
       " '__init_subclass__',\n",
       " '__le__',\n",
       " '__lt__',\n",
       " '__module__',\n",
       " '__ne__',\n",
       " '__new__',\n",
       " '__reduce__',\n",
       " '__reduce_ex__',\n",
       " '__repr__',\n",
       " '__setattr__',\n",
       " '__sizeof__',\n",
       " '__slots__',\n",
       " '__str__',\n",
       " '__subclasshook__',\n",
       " '__weakref__',\n",
       " '_abc_impl',\n",
       " '_ancestors',\n",
       " '_condense_state',\n",
       " '_father',\n",
       " '_hash',\n",
       " '_values',\n",
       " 'get_value',\n",
       " 'make_child']"
      ]
     },
     "execution_count": 86,
     "metadata": {},
     "output_type": "execute_result"
    }
   ],
   "source": [
    "dir(new_state)"
   ]
  },
  {
   "cell_type": "code",
   "execution_count": 88,
   "id": "7b2bd79e",
   "metadata": {},
   "outputs": [
    {
     "name": "stdout",
     "output_type": "stream",
     "text": [
      "[on(blue, orange), holding(blue), clear(orange), hand_empty, clear(blue), clear(yellow), on(orange, red), on(blue, blue), on(yellow, blue), on(orange, blue), on(red, blue), on(blue, yellow), on(yellow, yellow), on(orange, yellow), on(red, yellow), on(yellow, orange), on(orange, orange), on(red, orange), on(blue, red), on(yellow, red), on(red, red), clear(red), holding(yellow), holding(orange), holding(red)]\n"
     ]
    }
   ],
   "source": [
    "print(list(new_state._values))\n",
    "state_values=list(new_state._values)\n",
    "# for fluent in problem.fluents:\n",
    "#     value = new_state.get_value(fluent)\n",
    "#     print(f\"{fluent}: {value}\")\n"
   ]
  },
  {
   "cell_type": "code",
   "execution_count": 129,
   "id": "41b32c5b",
   "metadata": {},
   "outputs": [
    {
     "name": "stdout",
     "output_type": "stream",
     "text": [
      "on(blue, yellow)\n",
      "on(red, orange)\n"
     ]
    }
   ],
   "source": [
    "for element in state_values:\n",
    "    #print(str(element),'\\n')\n",
    "    string_f=str(element)\n",
    "    if string_f in list_goals:\n",
    "        print(string_f)"
   ]
  },
  {
   "cell_type": "code",
   "execution_count": 6,
   "id": "d8665269",
   "metadata": {},
   "outputs": [
    {
     "data": {
      "text/html": [
       "<div>\n",
       "<style scoped>\n",
       "    .dataframe tbody tr th:only-of-type {\n",
       "        vertical-align: middle;\n",
       "    }\n",
       "\n",
       "    .dataframe tbody tr th {\n",
       "        vertical-align: top;\n",
       "    }\n",
       "\n",
       "    .dataframe thead th {\n",
       "        text-align: right;\n",
       "    }\n",
       "</style>\n",
       "<table border=\"1\" class=\"dataframe\">\n",
       "  <thead>\n",
       "    <tr style=\"text-align: right;\">\n",
       "      <th></th>\n",
       "      <th>task</th>\n",
       "      <th>prompt_type</th>\n",
       "      <th>domain</th>\n",
       "      <th>instance_id</th>\n",
       "      <th>example_instance_ids</th>\n",
       "      <th>query</th>\n",
       "      <th>ground_truth_plan</th>\n",
       "    </tr>\n",
       "  </thead>\n",
       "  <tbody>\n",
       "    <tr>\n",
       "      <th>885</th>\n",
       "      <td>task_1_plan_generation</td>\n",
       "      <td>oneshot</td>\n",
       "      <td>blocksworld_3</td>\n",
       "      <td>2</td>\n",
       "      <td>[1]</td>\n",
       "      <td>I am playing with a set of blocks where I need...</td>\n",
       "      <td>(pick-up red)\\n(stack red orange)\\n(pick-up bl...</td>\n",
       "    </tr>\n",
       "    <tr>\n",
       "      <th>886</th>\n",
       "      <td>task_1_plan_generation</td>\n",
       "      <td>oneshot</td>\n",
       "      <td>blocksworld_3</td>\n",
       "      <td>3</td>\n",
       "      <td>[2]</td>\n",
       "      <td>I am playing with a set of blocks where I need...</td>\n",
       "      <td>(unstack blue orange)\\n(put-down blue)\\n(unsta...</td>\n",
       "    </tr>\n",
       "    <tr>\n",
       "      <th>887</th>\n",
       "      <td>task_1_plan_generation</td>\n",
       "      <td>oneshot</td>\n",
       "      <td>blocksworld_3</td>\n",
       "      <td>4</td>\n",
       "      <td>[3]</td>\n",
       "      <td>I am playing with a set of blocks where I need...</td>\n",
       "      <td>(unstack red blue)\\n(put-down red)\\n(unstack b...</td>\n",
       "    </tr>\n",
       "    <tr>\n",
       "      <th>888</th>\n",
       "      <td>task_1_plan_generation</td>\n",
       "      <td>oneshot</td>\n",
       "      <td>blocksworld_3</td>\n",
       "      <td>5</td>\n",
       "      <td>[4]</td>\n",
       "      <td>I am playing with a set of blocks where I need...</td>\n",
       "      <td>(unstack red blue)\\n(put-down red)\\n(unstack b...</td>\n",
       "    </tr>\n",
       "    <tr>\n",
       "      <th>889</th>\n",
       "      <td>task_1_plan_generation</td>\n",
       "      <td>oneshot</td>\n",
       "      <td>blocksworld_3</td>\n",
       "      <td>6</td>\n",
       "      <td>[5]</td>\n",
       "      <td>I am playing with a set of blocks where I need...</td>\n",
       "      <td>(unstack red orange)\\n(put-down red)\\n(unstack...</td>\n",
       "    </tr>\n",
       "  </tbody>\n",
       "</table>\n",
       "</div>"
      ],
      "text/plain": [
       "                       task prompt_type         domain  instance_id  \\\n",
       "885  task_1_plan_generation     oneshot  blocksworld_3            2   \n",
       "886  task_1_plan_generation     oneshot  blocksworld_3            3   \n",
       "887  task_1_plan_generation     oneshot  blocksworld_3            4   \n",
       "888  task_1_plan_generation     oneshot  blocksworld_3            5   \n",
       "889  task_1_plan_generation     oneshot  blocksworld_3            6   \n",
       "\n",
       "    example_instance_ids                                              query  \\\n",
       "885                  [1]  I am playing with a set of blocks where I need...   \n",
       "886                  [2]  I am playing with a set of blocks where I need...   \n",
       "887                  [3]  I am playing with a set of blocks where I need...   \n",
       "888                  [4]  I am playing with a set of blocks where I need...   \n",
       "889                  [5]  I am playing with a set of blocks where I need...   \n",
       "\n",
       "                                     ground_truth_plan  \n",
       "885  (pick-up red)\\n(stack red orange)\\n(pick-up bl...  \n",
       "886  (unstack blue orange)\\n(put-down blue)\\n(unsta...  \n",
       "887  (unstack red blue)\\n(put-down red)\\n(unstack b...  \n",
       "888  (unstack red blue)\\n(put-down red)\\n(unstack b...  \n",
       "889  (unstack red orange)\\n(put-down red)\\n(unstack...  "
      ]
     },
     "execution_count": 6,
     "metadata": {},
     "output_type": "execute_result"
    }
   ],
   "source": [
    "reload(data_loader)\n",
    "df=data_loader.load_data(\"../data/train.parquet\")\n",
    "df.head()\n"
   ]
  },
  {
   "cell_type": "code",
   "execution_count": 156,
   "id": "5d224d62",
   "metadata": {},
   "outputs": [
    {
     "data": {
      "text/plain": [
       "4200"
      ]
     },
     "execution_count": 156,
     "metadata": {},
     "output_type": "execute_result"
    }
   ],
   "source": [
    "df.size"
   ]
  },
  {
   "cell_type": "code",
   "execution_count": 161,
   "id": "75e717d2",
   "metadata": {},
   "outputs": [
    {
     "name": "stdout",
     "output_type": "stream",
     "text": [
      "I am playing with a set of blocks where I need to arrange the blocks into stacks\n",
      "        Here are the actions I can do: Pick up a block, Unstack a block from on top of another block, Put down a block, Stack a block on top of another block.\"\n",
      "        I have the following restrictions on my actions:\n",
      "        I can only pick up or unstack one block at a time\n",
      "        I can only pick up or unstack a block if my hand is empty\n",
      "        I can only pick up a block if the block is on the table and the block is clear\n",
      "        A block is clear if the block has no other blocks on top of it and if the block is not picked up\n",
      "        I can only unstack a block from on top of another block if the block I am unstacking was really on top of the other block\n",
      "        I can only unstack a block from on top of another block if the block I am unstacking is clear\n",
      "        Once I pick up or unstack a block, I am holding the block\n",
      "        I can only put down a block that I am holding\n",
      "        I can only stack a block on top of another block if I am holding the block being stacked\n",
      "        I can only stack a block on top of another block if the block onto which I am stacking the block is clear\n",
      "        Once I put down or stack a block, my hand becomes empty\n",
      "        Once you stack a block on top of a second block, the second block is no longer clear\n",
      "\n",
      "[STATEMENT]\n",
      "As initial conditions I have that: the orange block is clear, the hand is empty, the blue block is on top of the red block, the orange block is on top of the blue block and the red block is on the table.\n",
      "My goal is to have that the red block is on top of the blue block and the orange block is on top of the red block.\n",
      "\n",
      "My plan is as follows:\n",
      "\n",
      "[PLAN]\n",
      "unstack the orange block from on top of the blue block\n",
      "put down the orange block\n",
      "unstack the blue block from on top of the red block\n",
      "put down the blue block\n",
      "pick up the red block\n",
      "stack the red block on top of the blue block\n",
      "pick up the orange block\n",
      "stack the orange block on top of the red block\n",
      "[PLAN END]\n",
      "\n",
      "[STATEMENT]\n",
      "As initial conditions I have that, the red block is clear, the blue block is clear, the orange block is clear, the hand is empty, the red block is on the table, the blue block is on the table and the orange block is on the table.\n",
      "My goal is to have that the red block is on top of the orange block and the blue block is on top of the red block.\n",
      "\n",
      "My plan is as follows:\n",
      "\n",
      "[PLAN]\n"
     ]
    }
   ],
   "source": [
    "reload(prompts)\n",
    "prompt=prompts.make_prompt(df.iloc[0]['query'],type='full')\n",
    "print(prompt)"
   ]
  },
  {
   "cell_type": "code",
   "execution_count": 7,
   "id": "c74bee33",
   "metadata": {},
   "outputs": [],
   "source": [
    "reload(pb)\n",
    "pbstring=prompts.get_pbstring(df.iloc[0]['query'])\n",
    "# matches = [m.start() for m in re.finditer(r'\\[STATEMENT\\]', pbstring)]\n",
    "# if len(matches) >= 2:\n",
    "#     problem_string = pbstring[matches[1]:]  # Extract from the second occurrence onward\n",
    "#     print(problem_string)\n",
    "\n",
    "init,goal=pb.parse_problem(pbstring)\n",
    "\n",
    "#print(problem_string)"
   ]
  },
  {
   "cell_type": "code",
   "execution_count": 8,
   "metadata": {},
   "outputs": [
    {
     "data": {
      "text/plain": [
       "' the red block is clear, the blue block is clear, the orange block is clear, the hand is empty, the red block is on the table, the blue block is on the table and the orange block is on the table'"
      ]
     },
     "execution_count": 8,
     "metadata": {},
     "output_type": "execute_result"
    }
   ],
   "source": [
    "init"
   ]
  },
  {
   "cell_type": "code",
   "execution_count": 9,
   "id": "d3a48f07",
   "metadata": {},
   "outputs": [
    {
     "data": {
      "text/plain": [
       "' the red block is on top of the orange block and the blue block is on top of the red block'"
      ]
     },
     "execution_count": 9,
     "metadata": {},
     "output_type": "execute_result"
    }
   ],
   "source": [
    "goal"
   ]
  },
  {
   "cell_type": "code",
   "execution_count": 175,
   "id": "e372e844",
   "metadata": {},
   "outputs": [
    {
     "name": "stdout",
     "output_type": "stream",
     "text": [
      " the red block is on top of the orange block and the blue block is on top of the red block\n"
     ]
    }
   ],
   "source": [
    "conditions=problem_string.split(\"As initial conditions I have that,\")[1]\n",
    "goal_part="
   ]
  },
  {
   "cell_type": "code",
   "execution_count": null,
   "id": "cd11b39e",
   "metadata": {},
   "outputs": [],
   "source": [
    "def solve(pi,prompt,problem):\n",
    "    s0 = problem.\n",
    "    goal_reached = False\n",
    "    i = 0\n",
    "    max_iter = 10\n",
    "    while not(goal_reached) and i<max_iter:\n",
    "        action = pi.next_action_one_shot( ... ) \n",
    "        # is action possible?\n",
    "        plan.append(action)\n",
    "        s_new = s.apply(action)\n",
    "        # check for completion, abort if completed\n",
    "        score = r.get_reward(s_new)\n",
    "        # later: use reward to choose among candidates\n",
    "    return plan\n",
    "#maintain action history\n",
    "#pass this history and get model to act on it \n",
    "#then check possibiliy of action"
   ]
  },
  {
   "cell_type": "code",
   "execution_count": 11,
   "id": "e0aca556",
   "metadata": {},
   "outputs": [],
   "source": [
    "#vanilla method\n",
    "def main_fullSol(df):\n",
    "    results=[]\n",
    "    for i in range(0,1):\n",
    "        print(f'\\n\\n--------------------Entering main loop PROBLEM #{i}--------------------')\n",
    "        \n",
    "        #declare Blocksworld Problem object\n",
    "        problem = bw.BlocksworldProblem()\n",
    "\n",
    "        #create prompt using PLANBENCH dataset\n",
    "        #prompt=prompts.make_prompt(df.iloc[i]['query'])\n",
    "        #print(f'\\n\\nMake prompt:{prompt} \\nEND Make prompt')\n",
    "\n",
    "        #create prompt using OUR dataset\n",
    "        prompt,init,goal=prompts.make_prompt(df.iloc[i]['init'],df.iloc[i]['goal'],df.iloc[i]['demo_init'],df.iloc[i]['demo_goal'],df.iloc[i]['demo_plan'])\n",
    "\n",
    "        #parse dataset into Blocksworld object\n",
    "        #pbstring=prompts.get_pbstring(df.iloc[i]['query'])\n",
    "        #init,goal=pb.parse_problem(pbstring)\n",
    "        #pb.parse_planbench_initial_condition(problem, init)\n",
    "        #pb.parse_planbench_goal_state(problem, goal)\n",
    "        #print(f'\\n\\nBlocksworld Problem Initial Values:{problem.initial_values}')\n",
    "        #print(f'\\nBlocksworld Problem Goal Condition:{problem.goals}')\n",
    "        \n",
    "        #changed generation of Blocksworld object for OUR dataset\n",
    "        pb.parse_planbench_initial_condition(problem, init)\n",
    "        pb.parse_planbench_goal_state(problem, goal)\n",
    "        print(f'\\n\\nBlocksworld Problem Initial Values:{problem.initial_values}')\n",
    "        print(f'\\nBlocksworld Problem Goal Condition:{problem.goals}')\n",
    "\n",
    "        #activate solve mode\n",
    "        pi = policy.PolicyModel()\n",
    "        #query the llm, parse the actions, return tuples\n",
    "        actions=pi.Vanilla_fullSol_one_shot(prompt)\n",
    "        if not actions:\n",
    "            print(f'\\n\\n LLM exceeded 3 tries')\n",
    "            results.append(False)\n",
    "            continue\n",
    "        print(f'\\n\\nProposed actions by Policy : {actions} \\n END Policy')\n",
    "        model_plan=problem.create_plan_from_tuples(actions)\n",
    "\n",
    "        #validate and apply    \n",
    "        simulation=problem.create_seq_simulation()\n",
    "        valid_state=problem.check_and_apply(simulation,model_plan)\n",
    "        if not valid_state:\n",
    "            results.append(False)\n",
    "            continue\n",
    "        \n",
    "        #termination-check \n",
    "        if problem.terminate(valid_state):\n",
    "            results.append(True)\n",
    "            continue\n",
    "        \n",
    "        results.append(False)\n",
    "    return results"
   ]
  },
  {
   "cell_type": "code",
   "execution_count": 23,
   "id": "3392ec5a",
   "metadata": {},
   "outputs": [],
   "source": [
    "#load data for PLANBENCH dataset\n",
    "#df=data_loader.load_data(\"../data/train.parquet\")\n",
    "#df.head()\n",
    "#results=main_fullSol(df)"
   ]
  },
  {
   "cell_type": "code",
   "execution_count": 25,
   "id": "29f64aa8",
   "metadata": {},
   "outputs": [],
   "source": [
    "#print(f\"\\n\\n Model solution's verdict: {results}\")"
   ]
  },
  {
   "cell_type": "code",
   "execution_count": 24,
   "id": "f50a4456",
   "metadata": {},
   "outputs": [],
   "source": [
    "#df.head"
   ]
  },
  {
   "cell_type": "code",
   "execution_count": 18,
   "id": "4ae2cc45",
   "metadata": {},
   "outputs": [],
   "source": [
    "#load data for OUR dataset\n",
    "import pandas as pd\n",
    "n=3\n",
    "df=pd.read_csv(f'../data/Oneshot_val_{n}_blocks')\n",
    "df.drop(columns='Unnamed: 0',inplace=True)"
   ]
  },
  {
   "cell_type": "code",
   "execution_count": 19,
   "id": "3eeef1c7",
   "metadata": {},
   "outputs": [
    {
     "data": {
      "text/plain": [
       "(15, 5)"
      ]
     },
     "execution_count": 19,
     "metadata": {},
     "output_type": "execute_result"
    }
   ],
   "source": [
    "df.shape"
   ]
  },
  {
   "cell_type": "code",
   "execution_count": 20,
   "id": "7343e0d2",
   "metadata": {},
   "outputs": [
    {
     "name": "stdout",
     "output_type": "stream",
     "text": [
      "\n",
      "\n",
      "--------------------Entering main loop PROBLEM #0--------------------\n",
      "State in create_ic (('violet', 'teal', 'brown'),)\n",
      "State in create_goal (('violet',), ('teal',), ('brown',))\n",
      "Blocks being handled:['brown']\n",
      "Blocks being handled:[]\n",
      "Blocks being handled:['violet']\n",
      "Blocks being handled:['teal', 'violet']\n",
      "Blocks being handled:['brown', 'teal']\n",
      "\n",
      "\n",
      "Blocksworld Problem Initial Values:{clear(brown): true, hand_empty: true, on(teal, violet): true, on(brown, teal): true, on(brown, brown): false, on(violet, brown): false, on(teal, brown): false, on(brown, violet): false, on(violet, violet): false, on(violet, teal): false, on(teal, teal): false, clear(violet): false, clear(teal): false, holding(brown): false, holding(violet): false, holding(teal): false}\n",
      "\n",
      "Blocksworld Problem Goal Condition:[clear(violet), clear(teal), clear(brown)]\n",
      "\n",
      "\n",
      ".......Querying LLM for a plan......... iteration: #0\n",
      "\n",
      "\n",
      "LLM RESPONSE: It looks like you want to write a plan to achieve the goal, just like you did in the first example. Here's a possible plan:\n",
      "\n",
      "[PLAN]\n",
      "unstack the brown block from on top of the teal block\n",
      "put down the brown block\n",
      "unstack the teal block from on top of the violet block\n",
      "put down the teal block\n",
      "[PLAN END]\n",
      "\n",
      "This plan should achieve the goal of having the violet block, teal block, and brown block all clear.\n",
      "\n",
      "After EXTRCAT PLAN ACTIONS: ['unstack the brown block from on top of the teal block', 'put down the brown block', 'unstack the teal block from on top of the violet block', 'put down the teal block']\n",
      "\n",
      "\n",
      "Proposed actions by Policy : [('unstack', 'brown', 'teal'), ('put-down', 'brown'), ('unstack', 'teal', 'violet'), ('put-down', 'teal')] \n",
      " END Policy\n",
      "BLOCKS IN ACTION : ('brown', 'teal')\n",
      "BLOCKS IN ACTION : ('brown',)\n",
      "BLOCKS IN ACTION : ('teal', 'violet')\n",
      "BLOCKS IN ACTION : ('teal',)\n",
      "\n",
      "\n",
      "Entering \"CHECK & APPLY\"\n",
      "\n",
      " Current State : {clear(brown): true, hand_empty: true, on(teal, violet): true, on(brown, teal): true, on(brown, brown): false, on(violet, brown): false, on(teal, brown): false, on(brown, violet): false, on(violet, violet): false, on(violet, teal): false, on(teal, teal): false, clear(violet): false, clear(teal): false, holding(brown): false, holding(violet): false, holding(teal): false}\n",
      "\n",
      " Next Action : unstack(brown, teal)\n",
      "\n",
      " New State : {on(brown, teal): false, holding(brown): true, clear(teal): true, hand_empty: false, clear(brown): true, on(teal, violet): true, on(brown, brown): false, on(violet, brown): false, on(teal, brown): false, on(brown, violet): false, on(violet, violet): false, on(violet, teal): false, on(teal, teal): false, clear(violet): false, holding(violet): false, holding(teal): false}\n",
      "\n",
      "---------------------------------\n",
      "\n",
      " Current State : {on(brown, teal): false, holding(brown): true, clear(teal): true, hand_empty: false, clear(brown): true, on(teal, violet): true, on(brown, brown): false, on(violet, brown): false, on(teal, brown): false, on(brown, violet): false, on(violet, violet): false, on(violet, teal): false, on(teal, teal): false, clear(violet): false, holding(violet): false, holding(teal): false}\n",
      "\n",
      " Next Action : put_down(brown)\n",
      "\n",
      " New State : {holding(brown): false, hand_empty: true, clear(brown): true, on(brown, teal): false, clear(teal): true, on(teal, violet): true, on(brown, brown): false, on(violet, brown): false, on(teal, brown): false, on(brown, violet): false, on(violet, violet): false, on(violet, teal): false, on(teal, teal): false, clear(violet): false, holding(violet): false, holding(teal): false}\n",
      "\n",
      "---------------------------------\n",
      "\n",
      " Current State : {holding(brown): false, hand_empty: true, clear(brown): true, on(brown, teal): false, clear(teal): true, on(teal, violet): true, on(brown, brown): false, on(violet, brown): false, on(teal, brown): false, on(brown, violet): false, on(violet, violet): false, on(violet, teal): false, on(teal, teal): false, clear(violet): false, holding(violet): false, holding(teal): false}\n",
      "\n",
      " Next Action : unstack(teal, violet)\n",
      "\n",
      " New State : {on(teal, violet): false, holding(teal): true, clear(violet): true, hand_empty: false, holding(brown): false, clear(brown): true, on(brown, teal): false, clear(teal): true, on(brown, brown): false, on(violet, brown): false, on(teal, brown): false, on(brown, violet): false, on(violet, violet): false, on(violet, teal): false, on(teal, teal): false, holding(violet): false}\n",
      "\n",
      "---------------------------------\n",
      "\n",
      " Current State : {on(teal, violet): false, holding(teal): true, clear(violet): true, hand_empty: false, holding(brown): false, clear(brown): true, on(brown, teal): false, clear(teal): true, on(brown, brown): false, on(violet, brown): false, on(teal, brown): false, on(brown, violet): false, on(violet, violet): false, on(violet, teal): false, on(teal, teal): false, holding(violet): false}\n",
      "\n",
      " Next Action : put_down(teal)\n",
      "\n",
      " New State : {holding(teal): false, hand_empty: true, clear(teal): true, on(teal, violet): false, clear(violet): true, holding(brown): false, clear(brown): true, on(brown, teal): false, on(brown, brown): false, on(violet, brown): false, on(teal, brown): false, on(brown, violet): false, on(violet, violet): false, on(violet, teal): false, on(teal, teal): false, holding(violet): false}\n",
      "\n",
      "---------------------------------\n"
     ]
    }
   ],
   "source": [
    "results=main_fullSol(df)"
   ]
  },
  {
   "cell_type": "code",
   "execution_count": 21,
   "id": "2f12bcea",
   "metadata": {},
   "outputs": [
    {
     "name": "stdout",
     "output_type": "stream",
     "text": [
      "\n",
      "\n",
      " Model solution's verdict: [True]\n"
     ]
    }
   ],
   "source": [
    "print(f\"\\n\\n Model solution's verdict: {results}\")"
   ]
  },
  {
   "cell_type": "code",
   "execution_count": null,
   "id": "65796b7b",
   "metadata": {},
   "outputs": [],
   "source": []
  }
 ],
 "metadata": {
  "kernelspec": {
   "display_name": "base311",
   "language": "python",
   "name": "python3"
  },
  "language_info": {
   "codemirror_mode": {
    "name": "ipython",
    "version": 3
   },
   "file_extension": ".py",
   "mimetype": "text/x-python",
   "name": "python",
   "nbconvert_exporter": "python",
   "pygments_lexer": "ipython3",
   "version": "3.11.11"
  }
 },
 "nbformat": 4,
 "nbformat_minor": 5
}
