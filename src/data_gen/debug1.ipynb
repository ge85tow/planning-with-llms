{
 "cells": [
  {
   "cell_type": "code",
   "execution_count": null,
   "id": "d82b7f78-567f-4c29-951c-95efc610cabd",
   "metadata": {},
   "outputs": [],
   "source": [
    "from unified_planning.shortcuts import *\n",
    "from unified_planning.plans import *\n",
    "from importlib import reload\n",
    "import warnings \n",
    "warnings.filterwarnings('ignore')"
   ]
  },
  {
   "cell_type": "code",
   "execution_count": null,
   "id": "7280fc06-fa4d-4fd9-a9a8-a2895f086e22",
   "metadata": {},
   "outputs": [],
   "source": [
    "import unifiedplanning_blocksworld as bw\n",
    "import prompts\n",
    "import planbench as pb\n",
    "import policy_model as policy\n",
    "import llm_utils\n",
    "import data_loader\n",
    "import pandas as pd\n",
    "import regex as re"
   ]
  },
  {
   "cell_type": "code",
   "execution_count": null,
   "id": "4e00efd7",
   "metadata": {},
   "outputs": [],
   "source": [
    "model='google/gemma-2-9b-it'\n",
    "temp=0"
   ]
  },
  {
   "cell_type": "code",
   "execution_count": null,
   "id": "55aa5f95",
   "metadata": {},
   "outputs": [],
   "source": [
    "reload(policy)\n",
    "reload(prompts)\n",
    "reload(bw)\n",
    "reload(pb)\n",
    "reload(llm_utils)\n",
    "reload(data_loader)"
   ]
  },
  {
   "attachments": {},
   "cell_type": "markdown",
   "id": "76361f0c",
   "metadata": {},
   "source": [
    "#### Vanilla prompting ####"
   ]
  },
  {
   "cell_type": "code",
   "execution_count": null,
   "id": "06b99084",
   "metadata": {},
   "outputs": [],
   "source": [
    "llm_utils.query_llm('help')"
   ]
  },
  {
   "cell_type": "code",
   "execution_count": null,
   "id": "97fd1466-dbc6-4724-9933-6c3ec72c3781",
   "metadata": {},
   "outputs": [],
   "source": [
    "problem = bw.BlocksworldProblem()"
   ]
  },
  {
   "cell_type": "code",
   "execution_count": null,
   "id": "406ae771-c57b-47d9-9597-613ac640f9db",
   "metadata": {},
   "outputs": [],
   "source": [
    "pb.parse_planbench_initial_condition(problem, prompts.nextaction_problem_init)\n",
    "pb.parse_planbench_goal_state(problem, prompts.nextaction_problem_goal)\n",
    "#print(problem.initial_values)\n",
    "#initial vals ko vaapais readable mein translate karna hoga"
   ]
  },
  {
   "cell_type": "code",
   "execution_count": null,
   "id": "a2c872a5",
   "metadata": {},
   "outputs": [],
   "source": [
    "\n",
    "pi = policy.PolicyModel()\n",
    "    # def next_action_one_shot(self, \n",
    "    #                          problem_init, problem_goal,problem_action_hist,  # the state S\n",
    "    #                          example_init, example_goal,example_action_hist,example_next_action)\n",
    "plan=[]\n",
    "#action_tuple = pi.next_action_one_shot(prompts.nextaction_problem_init, prompts.nextaction_problem_goal,\n",
    "#                                       plan,\n",
    "#                                       prompts.nextaction_example_init, prompts.nextaction_example_goal,\n",
    "#                                       prompts.nextaction_example_action_hist,prompts.nextaction_example_nextaction)\n"
   ]
  },
  {
   "cell_type": "code",
   "execution_count": null,
   "id": "415b9536",
   "metadata": {},
   "outputs": [],
   "source": [
    "action_tuple=('unstack','blue','orange')\n",
    "#print(action_tuple)\n",
    "next_action=problem.create_action(action=action_tuple[0],blocks=action_tuple[1:])\n",
    "#print(next_action)"
   ]
  },
  {
   "cell_type": "code",
   "execution_count": null,
   "id": "c9f8a8c2",
   "metadata": {},
   "outputs": [],
   "source": [
    "simulation=problem.create_seq_simulation()\n",
    "current_state=simulation.get_initial_state()\n",
    "new_state=problem.validate_action(current_state,next_action,simulation)\n",
    "#if(new_state):\n",
    "    #print(new_state)\n",
    "#else:\n",
    "    #print('Invalid action proposed by policy')"
   ]
  },
  {
   "cell_type": "code",
   "execution_count": null,
   "id": "d8665269",
   "metadata": {},
   "outputs": [],
   "source": [
    "reload(data_loader)\n",
    "df=data_loader.load_data(\"../data/train.parquet\")\n",
    "df.head()\n"
   ]
  },
  {
   "cell_type": "code",
   "execution_count": null,
   "id": "5d224d62",
   "metadata": {},
   "outputs": [],
   "source": [
    "#df.size"
   ]
  },
  {
   "cell_type": "code",
   "execution_count": null,
   "id": "cd11b39e",
   "metadata": {},
   "outputs": [],
   "source": [
    "def evaluate(attempts,struct,diff_len,results,actions_to_goal,gplan_lens,valid_action_count):\n",
    "    metrics=pd.DataFrame({\n",
    "        'Parsable':struct,\n",
    "        'Attempts':attempts,\n",
    "        'Terminated':results,\n",
    "        'Valid Actions':valid_action_count,\n",
    "        'Distance from goal':actions_to_goal,\n",
    "        'Diff in plan len':diff_len,\n",
    "        'GOLD Plan len':gplan_lens\n",
    "    })\n",
    "    correct_plans=sum(results)\n",
    "    c_rate=correct_plans/len(results)\n",
    "    c_rate=format(c_rate,\".2f\")\n",
    "    return metrics,c_rate"
   ]
  },
  {
   "cell_type": "code",
   "execution_count": null,
   "id": "e0aca556",
   "metadata": {},
   "outputs": [],
   "source": [
    "#vanilla method\n",
    "from collections import defaultdict\n",
    "import math\n",
    "def main_fullSol(df,model,temp):\n",
    "    results=[False]*len(df)\n",
    "    well_struct=[False]*len(df)\n",
    "    num_tries=[0]*len(df)\n",
    "    diff_planlen=[-math.inf]*len(df)\n",
    "    actions_to_goal=[-math.inf]*len(df)\n",
    "    gplan_lens=[-math.inf]*len(df)\n",
    "    valid_action_count=[0]*len(df)\n",
    "    for i in range(0,len(df)):\n",
    "    #for i in range(0,1):\n",
    "        \n",
    "        print(f'\\n\\n--------------------Entering main loop PROBLEM #{i}--------------------')\n",
    "        \n",
    "        #declarations: Blocksworld Problem object\n",
    "        problem = bw.BlocksworldProblem()\n",
    "        model_plan=None\n",
    "\n",
    "        #create prompt using PLANBENCH dataset\n",
    "        #prompt=prompts.make_prompt(df.iloc[i]['query'])\n",
    "        #print(f'\\n\\nMake prompt:{prompt} \\nEND Make prompt')\n",
    "\n",
    "        #create prompt using OUR dataset\n",
    "        prompt,init,goal=prompts.make_prompt(df.iloc[i]['init'],df.iloc[i]['goal'],df.iloc[i]['demo_init'],df.iloc[i]['demo_goal'],df.iloc[i]['demo_plan'])\n",
    "\n",
    "        #parse PLANBENCH dataset into Blocksworld object\n",
    "        #pbstring=prompts.get_pbstring(df.iloc[i]['query'])\n",
    "        #init,goal=pb.parse_problem(pbstring)\n",
    "        #pb.parse_planbench_initial_condition(problem, init)\n",
    "        #pb.parse_planbench_goal_state(problem, goal)\n",
    "        #print(f'\\n\\nBlocksworld Problem Initial Values:{problem.initial_values}')\n",
    "        #print(f'\\nBlocksworld Problem Goal Condition:{problem.goals}')\n",
    "        \n",
    "        #changed generation of Blocksworld object for OUR dataset\n",
    "        pb.parse_planbench_initial_condition(problem, init)\n",
    "        pb.parse_planbench_goal_state(problem, goal)\n",
    "        print(f'\\n\\nBlocksworld Problem Initial Values:{problem.initial_values}')\n",
    "        print(f'\\nBlocksworld Problem Goal Condition:{problem.goals}')\n",
    "\n",
    "        #activate solve mode\n",
    "        pi = policy.PolicyModel()\n",
    "        #query the llm, parse the actions, return tuples\n",
    "        tags=\"Answer within the [PLAN] [PLAN END] tags.\"\n",
    "        cot=\"Step by step reason about the actions you choose to take.\"\n",
    "        response=pi.Vanilla_fullSol_one_shot(prompt+\"\\n\"+cot+\"\\n\"+tags,model=model,temp=temp)\n",
    "        actions=response[0]\n",
    "        tries=response[1]\n",
    "\n",
    "        num_tries[i]=tries\n",
    "\n",
    "        if not actions:\n",
    "            well_struct[i]=False\n",
    "            print(f'\\n\\n LLM exceeded 3 tries')\n",
    "            results[i]=False\n",
    "            continue\n",
    "        well_struct[i]=True\n",
    "        plan_len=len(actions)\n",
    "        \n",
    "        #generate plan from proposed actions\n",
    "        #actions=[('unstack', 'brown', 'teal'), ('put-down', 'brown'), ('unstack', 'teal', 'violet'), ('put-down', 'teal'), ('unstack', 'violet', 'teal'), ('put-down', 'violet')] \n",
    "        #actions=[('unstack', 'green', 'pink'), ('put-down', 'green'), ('unstack', 'pink', 'red'), ('put-down', 'pink'),('pick_up', 'green'), ('stack', 'green' , 'red')] \n",
    "        #plan_len=len(actions)\n",
    "\n",
    "        print(f'\\n\\nProposed actions by LLM : {actions} \\n  END')\n",
    "        model_plan=problem.create_plan_from_tuples(actions)\n",
    "        if not model_plan:\n",
    "            results[i]=False\n",
    "            print('!!!!!!!!!!!Action statement NOT FROM LIST OF ALLOWED actions!!!!!!!!!!!!')\n",
    "            #continue\n",
    "\n",
    "        if model_plan:\n",
    "            print(f'LLM PLAN: {model_plan}')\n",
    "\n",
    "        #validate and apply    \n",
    "        simulation=problem.create_seq_simulation()\n",
    "        va_counter=0\n",
    "        valid_state,flag,va_counter=problem.check_and_apply(simulation,model_plan)\n",
    "        valid_action_count[i]=va_counter\n",
    "        if not flag:\n",
    "            results[i]=False\n",
    "            #continue\n",
    "            \n",
    "\n",
    "        #compute actions to goal from last valid state\n",
    "        # print(f'UBS OBJECT FOR LAST VALID STATE: {valid_state,sim}')\n",
    "        a2g=problem.actions_to_goal(valid_state)\n",
    "        actions_to_goal[i]=a2g\n",
    "\n",
    "        \n",
    "        #get gold-plan on problem\n",
    "        gold_plan=problem.generate_plan()\n",
    "        gplan_actions=str(gold_plan.plan).strip().split('\\n')\n",
    "        gplan_actions=gplan_actions[1:]\n",
    "        gplan_len=len(gplan_actions)\n",
    "        gplan_lens[i]=gplan_len\n",
    "        print(f'\\n\\n$$$Proposed actions by GOLD PLAN $$$ : {gplan_actions} \\n END')\n",
    "\n",
    "\n",
    "        #termination-check \n",
    "        if problem.terminate(valid_state):\n",
    "            # print(f'Check and Apply return STATE:{valid_state}')\n",
    "            # print(f'v/s')\n",
    "            # print(f'GOAL STATE: {problem.goals}')\n",
    "            # print('Setting result as true')\n",
    "            results[i]=True\n",
    "            diff_planlen[i]=plan_len-gplan_len\n",
    "            continue\n",
    "        \n",
    "        results[i]=False\n",
    "\n",
    "        #compute metrics\n",
    "\n",
    "    metrics,c_rate=evaluate(num_tries,well_struct,diff_planlen,results,actions_to_goal,gplan_lens,valid_action_count)\n",
    "    return metrics,c_rate"
   ]
  },
  {
   "cell_type": "code",
   "execution_count": null,
   "id": "3392ec5a",
   "metadata": {},
   "outputs": [],
   "source": [
    "#load data for PLANBENCH dataset\n",
    "#df=data_loader.load_data(\"../data/train.parquet\")\n",
    "#df.head()\n",
    "#results=main_fullSol(df)"
   ]
  },
  {
   "cell_type": "code",
   "execution_count": null,
   "id": "29f64aa8",
   "metadata": {},
   "outputs": [],
   "source": [
    "#print(f\"\\n\\n Model solution's verdict: {results}\")"
   ]
  },
  {
   "cell_type": "code",
   "execution_count": null,
   "id": "f50a4456",
   "metadata": {},
   "outputs": [],
   "source": [
    "#df.head"
   ]
  },
  {
   "cell_type": "code",
   "execution_count": null,
   "id": "4ae2cc45",
   "metadata": {},
   "outputs": [],
   "source": [
    "#load data for OUR dataset\n",
    "import pandas as pd\n",
    "n=3\n",
    "df=pd.read_csv(f'../data/{n}_blocks/Oneshot_val_{n}_blocks')\n",
    "df.drop(columns='Unnamed: 0',inplace=True)\n",
    "df"
   ]
  },
  {
   "cell_type": "code",
   "execution_count": null,
   "id": "aed58f5b",
   "metadata": {},
   "outputs": [],
   "source": [
    "# df=df[1:2]\n",
    "# df"
   ]
  },
  {
   "cell_type": "code",
   "execution_count": null,
   "id": "3eeef1c7",
   "metadata": {},
   "outputs": [],
   "source": [
    "df.shape"
   ]
  },
  {
   "cell_type": "code",
   "execution_count": null,
   "id": "564331d8",
   "metadata": {},
   "outputs": [],
   "source": [
    "model='google/gemma-2-9b-it'\n",
    "temp=0"
   ]
  },
  {
   "cell_type": "code",
   "execution_count": null,
   "id": "7343e0d2",
   "metadata": {},
   "outputs": [],
   "source": [
    "response=main_fullSol(df,model=model,temp=temp)"
   ]
  },
  {
   "cell_type": "code",
   "execution_count": null,
   "id": "c43645b1",
   "metadata": {},
   "outputs": [],
   "source": [
    "metrics_df=response[0]\n",
    "c_rate=response[1]"
   ]
  },
  {
   "cell_type": "code",
   "execution_count": null,
   "id": "8fb194f7",
   "metadata": {},
   "outputs": [],
   "source": [
    "#metrics_df=pd.read_csv('../data/results/Vanilla_FullPlanGeneration_Val_3_blocks')"
   ]
  },
  {
   "cell_type": "code",
   "execution_count": null,
   "id": "02991f23",
   "metadata": {},
   "outputs": [],
   "source": [
    "print(f'----------------{model}, w COT, w demo help, w plan-end tags----------')\n",
    "metrics_df"
   ]
  },
  {
   "cell_type": "code",
   "execution_count": null,
   "id": "112e0c57",
   "metadata": {},
   "outputs": [],
   "source": [
    "print(f'Correctness rate : {c_rate}')\n",
    "print(f\"Goal State Reached: {sum(metrics_df['Distance from goal']==0)}\")"
   ]
  },
  {
   "cell_type": "code",
   "execution_count": null,
   "id": "8cf4e8cc",
   "metadata": {},
   "outputs": [],
   "source": [
    "#metrics_df.to_csv(f'../data/results/Vanilla_FullPlanGeneration_Val_3_blocks')"
   ]
  },
  {
   "cell_type": "code",
   "execution_count": null,
   "id": "63a6baa5",
   "metadata": {},
   "outputs": [],
   "source": [
    "problem=bw.BlocksworldProblem()"
   ]
  },
  {
   "cell_type": "code",
   "execution_count": null,
   "id": "1e385ceb",
   "metadata": {},
   "outputs": [],
   "source": [
    "BLOCK='green'\n",
    "blocks={'green':'green'}\n",
    "block=blocks.get(BLOCK)\n",
    "block"
   ]
  },
  {
   "cell_type": "code",
   "execution_count": null,
   "id": "aae60e0a",
   "metadata": {},
   "outputs": [],
   "source": [
    "len(df)"
   ]
  },
  {
   "cell_type": "code",
   "execution_count": null,
   "id": "65796b7b",
   "metadata": {},
   "outputs": [],
   "source": [
    "#qwen\n",
    "Qwen/Qwen2-7B-Instruct\n",
    "Qwen/Qwen2.5-7B-Instruct\n",
    "\n",
    "#llama\n",
    "meta-llama/Meta-Llama-3-8B-Instruct\n",
    "meta-llama/Meta-Llama-3.1-8B-Instruct\n",
    "meta-llama/Meta-Llama-3.1-8B-Instruct-Turbo\n",
    "\n",
    "#mistral\n",
    "mistralai/Mistral-7B-Instruct-v0.1\n",
    "mistralai/Mistral-7B-Instruct-v0.2\n",
    "mistralai/Mistral-7B-Instruct-v0.3\n",
    "\n",
    "#phi-4\n",
    "microsoft/Phi-4-multimodal-instruct\n",
    "\n",
    "#gemma\n",
    "google/gemma-1.1-7b-it\n",
    "google/gemma-3-4b-it\n",
    "google/gemma-2-9b-it"
   ]
  },
  {
   "attachments": {},
   "cell_type": "markdown",
   "id": "d76d6964",
   "metadata": {},
   "source": [
    "#### COT: Trials ####"
   ]
  },
  {
   "cell_type": "code",
   "execution_count": null,
   "id": "5adfa090",
   "metadata": {},
   "outputs": [],
   "source": [
    "reasons=[]"
   ]
  },
  {
   "cell_type": "code",
   "execution_count": null,
   "id": "a1e8c928",
   "metadata": {},
   "outputs": [],
   "source": [
    "reason='''I faced the stubborn tower: Brown on Violet, Violet on Teal, Teal on table. The goal? Brown on table, Violet on Brown, Teal on Violet. My fingers flexed.\n",
    "\n",
    "\"Brown's clear—I'll move it first.\" I unstuck Brown from Violet, cradling it. Wait. The goal wants Brown on table... so far so good. I set Brown down with a clunk.\n",
    "\n",
    "Now Violet sat exposed atop Teal. \"Need Violet on Brown... but first, is Violet clear?\" I checked—yes, no blocks above. I unstacked Violet, then hesitated. \"Brown's ready—but is it still clear?\" I nudged it. Good, untouched. I stacked Violet onto Brown.\n",
    "\n",
    "Teal remained alone on the table. \"Now for the finale...\" I reached, then froze. \"Is Violet clear for Teal?\" I peered—Violet's surface bare. Safe. I lifted Teal, stacked it atop Violet.\n",
    "\n",
    "The new tower stood: Brown (table) → Violet → Teal.\n",
    "\n",
    "Not Just Moving Blocks:\n",
    "Each action trailed by silent questions—\"Can I? Should I?\"—until the blocks aligned not by speed, but by relentless verification.\n",
    "\n",
    "Moral: Precision isn't in the moves; it's in the moments between.\n",
    "\n",
    "'''"
   ]
  },
  {
   "cell_type": "code",
   "execution_count": null,
   "id": "d46f7c11",
   "metadata": {},
   "outputs": [],
   "source": [
    "reasons.append(reason)"
   ]
  },
  {
   "cell_type": "code",
   "execution_count": null,
   "id": "373b780d",
   "metadata": {},
   "outputs": [],
   "source": [
    "i=1\n",
    "for r in reasons:\n",
    "    print(f'{i}. {r}')\n",
    "    i+=1"
   ]
  },
  {
   "cell_type": "code",
   "execution_count": null,
   "id": "3dcc03ed",
   "metadata": {},
   "outputs": [],
   "source": [
    "prompt=('''I am playing with a set of blocks where I need to arrange the blocks into stacks\n",
    "        Here are the actions I can do: Pick up a block, Unstack a block from on top of another block, Put down a block, Stack a block on top of another block.\n",
    "        I have the following restrictions on my actions:\n",
    "        I can only pick up or unstack one block at a time\n",
    "        I can only pick up or unstack a block if my hand is empty\n",
    "        I can only pick up a block if the block is on the table and the block is clear\n",
    "        A block is clear if the block has no other blocks on top of it and if the block is not picked up\n",
    "        I can only unstack a block from on top of another block if the block I am unstacking was really on top of the other block\n",
    "        I can only unstack a block from on top of another block if the block I am unstacking is clear\n",
    "        Once I pick up or unstack a block, I am holding the block\n",
    "        I can only put down a block that I am holding\n",
    "        I can only stack a block on top of another block if I am holding the block being stacked\n",
    "        I can only stack a block on top of another block if the block onto which I am stacking the block is clear\n",
    "        Once I put down or stack a block, my hand becomes empty\n",
    "        Once you stack a block on top of a second block, the second block is no longer clear\n",
    "\n",
    "[STATEMENT]\n",
    "As initial conditions I have that, the green block is clear,  the hand is empty, the red block is on the table, the pink block is on top of the red block, the green block is on top of the pink block.\n",
    "My goal is to have that  the green block is on the table, the red block is on top of the green block, the pink block is on top of the red block.\n",
    "\n",
    "Wait, let's think step by step.\n",
    "[REASONING]\n",
    "'''\n",
    "\n",
    "f\"\\n \\n{reason}\\n\\n [REASONING END]\"\n",
    "'''\n",
    "My plan is as follows:\n",
    "\n",
    "[PLAN]\n",
    "unstack the green block from on top of the pink block\n",
    "put down the green block\n",
    "unstack the pink block from on top of the red block\n",
    "put down the pink block\n",
    "pick up the red block\n",
    "stack the red block on top of the green block\n",
    "pick up the pink block\n",
    "stack the pink block on top of the red block\n",
    "[PLAN END]\n",
    "\n",
    "[STATEMENT]\n",
    "As initial conditions I have that, the brown block is clear,  the hand is empty, the violet block is on the table, the teal block is on top of the violet block, the brown block is on top of the teal block.\n",
    "My goal is to have that  the violet block is on the table, the teal block is on the table, the brown block is on the table.\n",
    "\n",
    "Wait, let's think step by step.\n",
    "[REASONING]\n",
    "\n",
    "Reason about the steps you take. Finally, answer within the [PLAN] [PLAN END] tags.''')\n"
   ]
  },
  {
   "cell_type": "code",
   "execution_count": null,
   "id": "958f2df8",
   "metadata": {},
   "outputs": [],
   "source": [
    "results=[]\n",
    "for i in range(0,5):\n",
    "    prompt,init,goal=prompts.cot_make_prompt(df.iloc[i]['init'],df.iloc[i]['goal'],df.iloc[i]['demo_init'],df.iloc[i]['demo_goal'],df.iloc[i]['demo_plan'],reasons[i])\n",
    "    print(f'----------------------------------PROMPT {i}------------------------:\\n\\n{prompt}')\n",
    "    r=llm_utils.query_llm(prompt,model=model,temperature=temp)\n",
    "    results.append(r)"
   ]
  },
  {
   "cell_type": "code",
   "execution_count": null,
   "id": "77b3c6c8",
   "metadata": {},
   "outputs": [],
   "source": [
    "for r in results:\n",
    "    print(r)"
   ]
  },
  {
   "cell_type": "code",
   "execution_count": null,
   "id": "4984d92c",
   "metadata": {},
   "outputs": [],
   "source": [
    "import pandas as pd\n",
    "from io import StringIO"
   ]
  },
  {
   "cell_type": "code",
   "execution_count": null,
   "id": "fd31ffd7",
   "metadata": {},
   "outputs": [],
   "source": [
    "# Clean up leading/trailing spaces\n",
    "markdown_table = markdown_table.strip()\n",
    "\n",
    "# Read it as if it's a CSV, but with \"|\" separator\n",
    "df = pd.read_csv(StringIO(markdown_table), sep=\"|\", engine=\"python\")\n",
    "\n",
    "# Drop the weird first and last empty columns (caused by the leading/trailing '|')\n",
    "df = df.drop(columns=[\"Unnamed: 0\", \"Unnamed: 9\"])\n",
    "\n",
    "# Optionally strip spaces from column names\n",
    "df.columns = df.columns.str.strip()\n",
    "\n",
    "print(df)"
   ]
  },
  {
   "cell_type": "code",
   "execution_count": null,
   "id": "de7260c4",
   "metadata": {},
   "outputs": [],
   "source": [
    "df.drop(columns=['Index'],inplace=True)"
   ]
  },
  {
   "cell_type": "code",
   "execution_count": null,
   "id": "7db1dfb6",
   "metadata": {},
   "outputs": [],
   "source": [
    "df.head(11)"
   ]
  },
  {
   "cell_type": "code",
   "execution_count": null,
   "id": "f5747ae6",
   "metadata": {},
   "outputs": [],
   "source": [
    "df.to_csv('')"
   ]
  },
  {
   "cell_type": "code",
   "execution_count": null,
   "id": "c60dc9ff",
   "metadata": {},
   "outputs": [],
   "source": [
    "df=df.rename(columns=\n",
    "          {':-----------':'Parsable',\n",
    "           '-----------:':'Attempts',\n",
    "           ':-------------':'Terminated',\n",
    "           '----------------:':'Valid Actions',\n",
    "           '---------------------:':'Distance from goal',\n",
    "           '-------------------:':'Diff in plan len',\n",
    "           '----------------:.1':'GOLD Plan len',})"
   ]
  },
  {
   "attachments": {},
   "cell_type": "markdown",
   "id": "05d464b2",
   "metadata": {},
   "source": [
    "#### Local LLM set-up ####"
   ]
  },
  {
   "attachments": {},
   "cell_type": "markdown",
   "id": "5e18d0cf",
   "metadata": {},
   "source": [
    "Strategise at each step before you choose an action, then form a final plan.\n",
    "Step by step reason about the actions you choose to take."
   ]
  },
  {
   "cell_type": "code",
   "execution_count": null,
   "id": "789cba70",
   "metadata": {},
   "outputs": [],
   "source": [
    "prompt1='''I am playing with a set of blocks where I need to arrange the blocks into stacks\n",
    "        Here are the actions I can do: Pick up a block, Unstack a block from on top of another block, Put down a block, Stack a block on top of another block.\n",
    "        I have the following restrictions on my actions:\n",
    "        I can only pick up or unstack one block at a time\n",
    "        I can only pick up or unstack a block if my hand is empty\n",
    "        I can only pick up a block if the block is on the table and the block is clear\n",
    "        A block is clear if the block has no other blocks on top of it and if the block is not picked up\n",
    "        I can only unstack a block from on top of another block if the block I am unstacking was really on top of the other block\n",
    "        I can only unstack a block from on top of another block if the block I am unstacking is clear\n",
    "        Once I pick up or unstack a block, I am holding the block\n",
    "        I can only put down a block that I am holding\n",
    "        I can only stack a block on top of another block if I am holding the block being stacked\n",
    "        I can only stack a block on top of another block if the block onto which I am stacking the block is clear\n",
    "        Once I put down or stack a block, my hand becomes empty\n",
    "        Once you stack a block on top of a second block, the second block is no longer clear\n",
    "\n",
    "[STATEMENT]\n",
    "As initial conditions I have that, the green block is clear,  the hand is empty, the pink block is on the table, the red block is on top of the pink block, the green block is on top of the red block.\n",
    "My goal is to have that  the green block is on the table, the pink block is on top of the green block, the red block is on the table.\n",
    "\n",
    "My plan is as follows:\n",
    "\n",
    "[PLAN]\n",
    "unstack the green block from on top of the red block\n",
    "put down the green block\n",
    "unstack the red block from on top of the pink block\n",
    "put down the red block\n",
    "pick up the pink block\n",
    "stack the pink block on top of the green block\n",
    "[PLAN END]\n",
    "\n",
    "[STATEMENT]\n",
    "As initial conditions I have that, the red block is clear, the green block is clear,  the hand is empty, the pink block is on the table, the green block is on top of the pink block, the red block is on the table.\n",
    "My goal is to have that  the pink block is on the table, the red block is on top of the pink block, the green block is on the table.\n",
    "\n",
    "[PLAN]\n",
    "Answer within the [PLAN] [PLAN END] tags.\n",
    "'''"
   ]
  },
  {
   "cell_type": "code",
   "execution_count": null,
   "id": "3b62758f",
   "metadata": {},
   "outputs": [],
   "source": [
    "import torch\n",
    "#torch.cuda.empty_cache()\n",
    "model_name='google/gemma-2-9b-it'\n",
    "temp=0"
   ]
  },
  {
   "cell_type": "code",
   "execution_count": null,
   "id": "c912b77d",
   "metadata": {},
   "outputs": [],
   "source": [
    "#model,tokenizer=llm_utils.get_model_tokenizer(model_name)"
   ]
  },
  {
   "cell_type": "code",
   "execution_count": null,
   "id": "dacf8325",
   "metadata": {},
   "outputs": [],
   "source": [
    "response=llm_utils.query_local_model(model=model,tokenizer=tokenizer,model_name=model_name,temperature=0,prompt=prompt1)"
   ]
  },
  {
   "cell_type": "code",
   "execution_count": null,
   "id": "35398d09",
   "metadata": {},
   "outputs": [],
   "source": [
    "r=llm_utils.query_llm(model=model_name,temperature=temp,prompt=prompt)"
   ]
  },
  {
   "cell_type": "code",
   "execution_count": null,
   "id": "296411bb",
   "metadata": {},
   "outputs": [],
   "source": [
    "print(r)"
   ]
  },
  {
   "cell_type": "code",
   "execution_count": null,
   "id": "5d9b029c",
   "metadata": {},
   "outputs": [],
   "source": [
    "r=llm_utils.query_llm(prompt=prompt1+\"Let's DeepThink this.\",model='deepseek-ai/DeepSeek-R1-Distill-Llama-70B',temperature=0,max_tokens=1200)"
   ]
  },
  {
   "cell_type": "code",
   "execution_count": null,
   "id": "fc82beb7",
   "metadata": {},
   "outputs": [],
   "source": [
    "print(r)"
   ]
  },
  {
   "cell_type": "code",
   "execution_count": null,
   "id": "7b435a3d",
   "metadata": {},
   "outputs": [],
   "source": [
    "demo_prompt=prompt1.split('[PLAN]')[0]\n",
    "print(demo_prompt)"
   ]
  },
  {
   "cell_type": "code",
   "execution_count": null,
   "id": "91339512",
   "metadata": {},
   "outputs": [],
   "source": [
    "train_3=pd.read_csv(f'../data/3_blocks/SFT_train_3_blocks_fullPlan').drop(columns='Unnamed: 0')"
   ]
  },
  {
   "cell_type": "code",
   "execution_count": null,
   "id": "38d837b7",
   "metadata": {},
   "outputs": [],
   "source": [
    "def get_deep_thoughts(df,model,temp):\n",
    "    thoughts=[]\n",
    "    for i in range(len(df)):\n",
    "        print(f'\\n\\n--------------------Entering main loop PROBLEM #{i}--------------------')\n",
    "        #prompt,init,goal=prompts.make_prompt(df.iloc[i]['init'],df.iloc[i]['goal'],df.iloc[i]['demo_init'],df.iloc[i]['demo_goal'],df.iloc[i]['demo_plan'])\n",
    "        prompt=df['prompt'][i]\n",
    "        demo_prompt=prompt.split('[PLAN]')[0].strip()\n",
    "        demo_prompt=demo_prompt+'[PLAN]'\n",
    "        r=llm_utils.query_llm(prompt=demo_prompt+\"Let's DeepThink this.\",model=model,temperature=temp,max_tokens=1200)\n",
    "        thought=r.split('<think>')[1].split('</think>')[0].strip()\n",
    "        thoughts.append(thought)\n",
    "    return thoughts\n"
   ]
  },
  {
   "cell_type": "code",
   "execution_count": null,
   "id": "04a396f7",
   "metadata": {},
   "outputs": [],
   "source": [
    "model='deepseek-ai/DeepSeek-R1-Distill-Llama-70B'\n",
    "temp=0"
   ]
  },
  {
   "cell_type": "code",
   "execution_count": null,
   "id": "fd9b26f0",
   "metadata": {},
   "outputs": [],
   "source": [
    "thoughts=get_deep_thoughts(train_3,model,temp)"
   ]
  },
  {
   "cell_type": "code",
   "execution_count": null,
   "id": "8fcb1106",
   "metadata": {},
   "outputs": [],
   "source": [
    "thoughts_df=pd.DataFrame(thoughts,columns=['thought'])"
   ]
  },
  {
   "cell_type": "code",
   "execution_count": null,
   "id": "07a15d9a",
   "metadata": {},
   "outputs": [],
   "source": [
    "thoughts_df.to_csv('../data/3_blocks/thoughts.csv')"
   ]
  },
  {
   "cell_type": "code",
   "execution_count": null,
   "id": "4418212b",
   "metadata": {},
   "outputs": [],
   "source": [
    "Parsable',\n",
    "      3            '-----------:':'Attempts',\n",
    "      4            ':-------------':'Terminated',\n",
    "      5            '----------------:':'Valid Actions',\n",
    "      6            '---------------------:':'Distance from goal',\n",
    "      7            '-------------------:':'Diff in plan len',\n",
    "      8            '----------------:.1':'GOLD Plan len',})"
   ]
  },
  {
   "cell_type": "code",
   "execution_count": null,
   "id": "1186503f",
   "metadata": {},
   "outputs": [],
   "source": [
    "import pandas as pd\n",
    "base_dir=\"/srv/chawak/planning-with-llms/results/rl/training/\"\n",
    "inference_dir=\"inference/inference_24_06/train/tags_checkpoint_120/metrics.csv\"\n",
    "inf_csv=base_dir+inference_dir\n",
    "df=pd.read_csv(f'{inf_csv}')\n",
    "df.drop(columns='Unnamed: 0',inplace=True)"
   ]
  },
  {
   "cell_type": "code",
   "execution_count": null,
   "id": "320fe1e2",
   "metadata": {},
   "outputs": [],
   "source": [
    "df"
   ]
  },
  {
   "cell_type": "code",
   "execution_count": null,
   "id": "803db1f3",
   "metadata": {},
   "outputs": [],
   "source": [
    "import sys\n",
    "sys.path.append(\"/srv/chawak/planning-with-llms/src/\")"
   ]
  },
  {
   "cell_type": "code",
   "execution_count": null,
   "id": "7173e04e",
   "metadata": {},
   "outputs": [],
   "source": [
    "from shared import llm_utils"
   ]
  },
  {
   "cell_type": "code",
   "execution_count": null,
   "id": "4d01dbd6",
   "metadata": {},
   "outputs": [],
   "source": []
  }
 ],
 "metadata": {
  "kernelspec": {
   "display_name": "base311",
   "language": "python",
   "name": "python3"
  },
  "language_info": {
   "codemirror_mode": {
    "name": "ipython",
    "version": 3
   },
   "file_extension": ".py",
   "mimetype": "text/x-python",
   "name": "python",
   "nbconvert_exporter": "python",
   "pygments_lexer": "ipython3",
   "version": "3.11.11"
  }
 },
 "nbformat": 4,
 "nbformat_minor": 5
}
