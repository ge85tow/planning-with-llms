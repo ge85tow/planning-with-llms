{
 "cells": [
  {
   "cell_type": "code",
   "execution_count": 4,
   "metadata": {},
   "outputs": [],
   "source": [
    "from unified_planning.plans import *"
   ]
  },
  {
   "cell_type": "code",
   "execution_count": 5,
   "metadata": {},
   "outputs": [
    {
     "ename": "ModuleNotFoundError",
     "evalue": "No module named 'unified_planning.engines'",
     "output_type": "error",
     "traceback": [
      "\u001b[0;31m---------------------------------------------------------------------------\u001b[0m",
      "\u001b[0;31mModuleNotFoundError\u001b[0m                       Traceback (most recent call last)",
      "Cell \u001b[0;32mIn[5], line 1\u001b[0m\n\u001b[0;32m----> 1\u001b[0m SequentialPlan(\u001b[39m'\u001b[39;49m\u001b[39m'\u001b[39;49m)\n",
      "File \u001b[0;32m~/anaconda3/envs/planwllm/lib/python3.11/site-packages/unified_planning/plans/sequential_plan.py:37\u001b[0m, in \u001b[0;36m__init__\u001b[0;34m(self, actions, environment)\u001b[0m\n",
      "File \u001b[0;32m~/anaconda3/envs/planwllm/lib/python3.11/site-packages/unified_planning/plans/plan.py:144\u001b[0m, in \u001b[0;36m__init__\u001b[0;34m(self, kind, environment)\u001b[0m\n",
      "File \u001b[0;32m~/anaconda3/envs/planwllm/lib/python3.11/site-packages/unified_planning/environment.py:159\u001b[0m, in \u001b[0;36mget_environment\u001b[0;34m(environment)\u001b[0m\n\u001b[1;32m      0\u001b[0m <Error retrieving source code with stack_data see ipython/ipython#13598>\n",
      "File \u001b[0;32m~/anaconda3/envs/planwllm/lib/python3.11/site-packages/unified_planning/environment.py:40\u001b[0m, in \u001b[0;36m__init__\u001b[0;34m(self)\u001b[0m\n\u001b[1;32m     35\u001b[0m     \u001b[39mself\u001b[39m\u001b[39m.\u001b[39m_expression_manager \u001b[39m=\u001b[39m unified_planning\u001b[39m.\u001b[39mmodel\u001b[39m.\u001b[39mExpressionManager(\u001b[39mself\u001b[39m)\n\u001b[1;32m     36\u001b[0m     \u001b[39mself\u001b[39m\u001b[39m.\u001b[39m_free_vars_oracle \u001b[39m=\u001b[39m unified_planning\u001b[39m.\u001b[39mmodel\u001b[39m.\u001b[39mFreeVarsOracle()\n\u001b[1;32m     39\u001b[0m \u001b[39m@property\u001b[39m\n\u001b[0;32m---> 40\u001b[0m \u001b[39mdef\u001b[39;00m\u001b[39m \u001b[39m\u001b[39mfree_vars_oracle\u001b[39m(\u001b[39mself\u001b[39m) \u001b[39m-\u001b[39m\u001b[39m>\u001b[39m \u001b[39m'\u001b[39m\u001b[39munified_planning.model.FreeVarsOracle\u001b[39m\u001b[39m'\u001b[39m:\n\u001b[1;32m     41\u001b[0m     \u001b[39mreturn\u001b[39;00m \u001b[39mself\u001b[39m\u001b[39m.\u001b[39m_free_vars_oracle\n\u001b[1;32m     43\u001b[0m \u001b[39m@property\u001b[39m\n\u001b[1;32m     44\u001b[0m \u001b[39mdef\u001b[39;00m\u001b[39m \u001b[39m\u001b[39mexpression_manager\u001b[39m(\u001b[39mself\u001b[39m) \u001b[39m-\u001b[39m\u001b[39m>\u001b[39m \u001b[39m'\u001b[39m\u001b[39munified_planning.model.ExpressionManager\u001b[39m\u001b[39m'\u001b[39m:\n",
      "\u001b[0;31mModuleNotFoundError\u001b[0m: No module named 'unified_planning.engines'"
     ]
    }
   ],
   "source": [
    "SequentialPlan('')"
   ]
  },
  {
   "cell_type": "code",
   "execution_count": null,
   "metadata": {},
   "outputs": [],
   "source": []
  }
 ],
 "metadata": {
  "kernelspec": {
   "display_name": "planwllm",
   "language": "python",
   "name": "python3"
  },
  "language_info": {
   "codemirror_mode": {
    "name": "ipython",
    "version": 3
   },
   "file_extension": ".py",
   "mimetype": "text/x-python",
   "name": "python",
   "nbconvert_exporter": "python",
   "pygments_lexer": "ipython3",
   "version": "3.11.11"
  },
  "orig_nbformat": 4
 },
 "nbformat": 4,
 "nbformat_minor": 2
}
