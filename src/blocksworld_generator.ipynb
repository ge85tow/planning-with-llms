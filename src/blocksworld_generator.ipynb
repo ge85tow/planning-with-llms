{
 "cells": [
  {
   "cell_type": "code",
   "execution_count": null,
   "metadata": {},
   "outputs": [],
   "source": [
    "import random\n",
    "import warnings\n",
    "import regex as re\n",
    "import ast"
   ]
  },
  {
   "cell_type": "code",
   "execution_count": null,
   "metadata": {},
   "outputs": [],
   "source": [
    "warnings.filterwarnings('ignore')"
   ]
  },
  {
   "attachments": {},
   "cell_type": "markdown",
   "metadata": {},
   "source": [
    "## Step 1: Generate init -> goal pairs ##"
   ]
  },
  {
   "cell_type": "code",
   "execution_count": null,
   "metadata": {},
   "outputs": [],
   "source": [
    "n=5"
   ]
  },
  {
   "cell_type": "code",
   "execution_count": null,
   "metadata": {},
   "outputs": [],
   "source": [
    "def get_blocks(n):\n",
    "  bag_of_blocks=[]\n",
    "  for i in range(n):\n",
    "    bag_of_blocks.append(i+1)\n",
    "    \n",
    "  return bag_of_blocks\n",
    "print(get_blocks(n))"
   ]
  },
  {
   "cell_type": "code",
   "execution_count": null,
   "metadata": {},
   "outputs": [],
   "source": [
    "from itertools import combinations\n",
    "from itertools import permutations\n",
    "\n",
    "def get_partitions(blocks):\n",
    "    if not blocks:\n",
    "        return [[]]\n",
    "    \n",
    "    partitions = []\n",
    "    for i in range(1, len(blocks) + 1):\n",
    "        for subset in combinations(blocks, i):\n",
    "            remaining = [b for b in blocks if b not in subset]\n",
    "            for partition in get_partitions(remaining):\n",
    "                new_partition = [list(subset)] + list(partition)\n",
    "                sorted_partition = tuple(sorted(tuple(sorted(group)) for group in new_partition))\n",
    "                if sorted_partition not in partitions:\n",
    "                    partitions.append(sorted_partition)\n",
    "                    \n",
    "    return partitions\n",
    "\n",
    "blocks = get_blocks(n)\n",
    "all_config=set()\n",
    "all_configs = set(get_partitions(blocks))\n",
    "\n",
    "print(all_configs)\n"
   ]
  },
  {
   "cell_type": "code",
   "execution_count": null,
   "metadata": {},
   "outputs": [],
   "source": [
    "def get_all_permed(all_configs):\n",
    "    w_permuations=[]\n",
    "    for config in all_configs:\n",
    "        #print(config)\n",
    "        #config=((1,3),(2,))\n",
    "        config_as_list=list(config)\n",
    "        for idx,tower in enumerate(config_as_list):\n",
    "                # print(idx,tower)\n",
    "                if(len(tower)>1):\n",
    "                    #print(idx,tower)\n",
    "                    permutations_of_tower=tuple(permutations(tower))\n",
    "                    modified_configs=[]\n",
    "\n",
    "                    for element in permutations_of_tower:\n",
    "                    \n",
    "                        modified_config=config_as_list.copy()\n",
    "                        modified_config[idx]=element\n",
    "                        #äprint(f'Modified permutation:{modified_config}')\n",
    "                        modified_configs.append(tuple(modified_config))\n",
    "                    \n",
    "                    for con in modified_configs:\n",
    "                        w_permuations.append(tuple(con))\n",
    "                    #print(perm_towers)\n",
    "    return w_permuations\n",
    "            \n",
    "print(get_all_permed(all_configs))\n"
   ]
  },
  {
   "cell_type": "code",
   "execution_count": null,
   "metadata": {},
   "outputs": [],
   "source": [
    "def get_all_states(n):\n",
    "\n",
    "    blocks=get_blocks(n)\n",
    "    all_configs = set(get_partitions(blocks))\n",
    "    permutations=get_all_permed(all_configs)\n",
    "\n",
    "    for element in permutations:\n",
    "        if  element not in all_configs:\n",
    "            all_configs.add(element)\n",
    "    \n",
    "    return all_configs\n",
    "\n",
    "    "
   ]
  },
  {
   "cell_type": "code",
   "execution_count": null,
   "metadata": {},
   "outputs": [],
   "source": [
    "all_states=get_all_states(n)\n",
    "len(all_states)"
   ]
  },
  {
   "cell_type": "code",
   "execution_count": null,
   "metadata": {},
   "outputs": [],
   "source": [
    "print(all_states)"
   ]
  },
  {
   "cell_type": "code",
   "execution_count": null,
   "metadata": {},
   "outputs": [],
   "source": [
    "colours=['Red','Blue','Green','Yellow','Pink',\n",
    "        'Orange','Purple','Brown','White','Violet',\n",
    "        'Indigo','Ochre','Black','Magenta','Crimson',\n",
    "        'Turquoise','Periwinkle','Grey','Emerald']"
   ]
  },
  {
   "cell_type": "code",
   "execution_count": null,
   "metadata": {},
   "outputs": [],
   "source": [
    "#trial-run\n",
    "selected_colours=random.sample(colours,n)\n",
    "selected_colours"
   ]
  },
  {
   "cell_type": "code",
   "execution_count": null,
   "metadata": {},
   "outputs": [],
   "source": [
    "#making init -> goal state pairs\n",
    "import pandas as pd\n",
    "def make_init_goal_lists(all_states):\n",
    "    init=[]\n",
    "    goal=[]\n",
    "    list_all_states=list(all_states)\n",
    "    for idx1,state_1 in enumerate(list_all_states):\n",
    "        #print(idx1)\n",
    "        for idx2, state_2 in enumerate(list_all_states):\n",
    "            if idx1 != idx2:\n",
    "                #print(f'works! {idx1}, {idx2}')\n",
    "                init.append(list_all_states[idx1])\n",
    "                goal.append(list_all_states[idx2])\n",
    "    return init,goal\n",
    "\n",
    "#trial-run\n",
    "init,goal=make_init_goal_lists(all_states)                \n",
    "for i in range(len(init)):\n",
    "    print(f'For {n} blocks: Initial {init[i]} -> Goal {goal[i]}')\n"
   ]
  },
  {
   "cell_type": "code",
   "execution_count": null,
   "metadata": {},
   "outputs": [],
   "source": [
    "d={'init':init,'goal':goal}\n",
    "problems=pd.DataFrame(data=d)"
   ]
  },
  {
   "cell_type": "code",
   "execution_count": null,
   "metadata": {},
   "outputs": [],
   "source": [
    "problems"
   ]
  },
  {
   "cell_type": "code",
   "execution_count": null,
   "metadata": {},
   "outputs": [],
   "source": [
    "#shuffling problems to avoid clumps of same config across dataset splits\n",
    "problems=problems.sample(frac=1).reset_index(drop=True)\n",
    "problems"
   ]
  },
  {
   "cell_type": "code",
   "execution_count": null,
   "metadata": {},
   "outputs": [],
   "source": [
    "train=problems[100000:162000].copy()\n",
    "test=problems[162000:179000].copy()\n",
    "val=problems[179000:].copy()\n",
    "print(f\"Size of splits: \\nTrain: {len(train['init'])} \\nValidation: {len(val['init'])}\\nTest: {len(test['init'])}\\n\\nTOTAL:{len(val['init'])+len(test['init'])+len(train['init'])}\")"
   ]
  },
  {
   "cell_type": "code",
   "execution_count": null,
   "metadata": {},
   "outputs": [],
   "source": [
    "train.reset_index(drop=True,inplace=True)\n",
    "train"
   ]
  },
  {
   "cell_type": "code",
   "execution_count": null,
   "metadata": {},
   "outputs": [],
   "source": [
    "val.reset_index(drop=True,inplace=True)\n",
    "val"
   ]
  },
  {
   "cell_type": "code",
   "execution_count": null,
   "metadata": {},
   "outputs": [],
   "source": [
    "test.reset_index(drop=True,inplace=True)\n",
    "test"
   ]
  },
  {
   "cell_type": "code",
   "execution_count": null,
   "metadata": {},
   "outputs": [],
   "source": [
    "def fill_colour(state,colour_map):\n",
    "    #debug line\n",
    "    #print(f\"Type received: {type(state)} - Value: {state}\")\n",
    "    # ((1,), (2,))\n",
    "    return tuple(\n",
    "        tuple(colour_map.get(block, block) for block in tower)\n",
    "        for tower in state\n",
    "    )"
   ]
  },
  {
   "cell_type": "code",
   "execution_count": null,
   "metadata": {},
   "outputs": [],
   "source": [
    "fixcolour_set1=['red','blue','green','yellow','pink','grey']\n",
    "fixcolour_set2=['orange','purple','brown','white','violet','teal']"
   ]
  },
  {
   "cell_type": "code",
   "execution_count": null,
   "metadata": {},
   "outputs": [],
   "source": [
    "#varcolour_set1=random.sample(fixcolour_set1,n)\n",
    "#varcolour_set2=random.sample(fixcolour_set2,n)\n",
    "#print(f'Set 1:{varcolour_set1} \\nSet 2: {varcolour_set2}')"
   ]
  },
  {
   "cell_type": "code",
   "execution_count": null,
   "metadata": {},
   "outputs": [],
   "source": [
    "#colours=[varcolour_set1,varcolour_set2]\n",
    "colours"
   ]
  },
  {
   "cell_type": "code",
   "execution_count": null,
   "metadata": {},
   "outputs": [],
   "source": [
    "def get_col_map(colours):\n",
    "\n",
    "    keys=colours[0]+colours[1]\n",
    "    values=colours[1]+colours[0]\n",
    "    colour_map=dict(zip(keys,values))\n",
    "    return colour_map"
   ]
  },
  {
   "cell_type": "code",
   "execution_count": null,
   "metadata": {},
   "outputs": [],
   "source": [
    "colour_map=get_col_map(colours)\n",
    "colour_map"
   ]
  },
  {
   "cell_type": "code",
   "execution_count": null,
   "metadata": {},
   "outputs": [],
   "source": [
    "#colours each row by randomly selecting one of two colour sets for each row\n",
    "def get_row_colored(df,i):\n",
    "    selected_colours={}\n",
    "    idx_set=random.sample([0,1],1)[0]\n",
    "    values=colours[idx_set]\n",
    "    keys=[i for i in range(1,n+1)]\n",
    "    selected_colours=dict(zip(keys,values))\n",
    "    print(f'Selected colours for this round: {selected_colours}')\n",
    "    \n",
    "    df['init'][i]=fill_colour(df['init'][i],selected_colours)\n",
    "    df['goal'][i]=fill_colour(df['goal'][i],selected_colours)"
   ]
  },
  {
   "cell_type": "code",
   "execution_count": null,
   "metadata": {},
   "outputs": [],
   "source": [
    "#colours the entire dataframe row-by-row\n",
    "def color_me_pretty(df):\n",
    "    for i in range(len(df['init'])):\n",
    "        print('-----------------------------------------------------------------\\n\\n')\n",
    "        print(f\"Getting row {i} coloured, {df['init'][i]} -> {df['goal'][i]}\\n\")\n",
    "        get_row_colored(df,i=i)\n",
    "        print(f\"\\nAfter colouring row {i} , {df['init'][i]} -> {df['goal'][i]}\\n\")\n",
    "    "
   ]
  },
  {
   "cell_type": "code",
   "execution_count": null,
   "metadata": {},
   "outputs": [],
   "source": [
    "color_me_pretty(train)"
   ]
  },
  {
   "cell_type": "code",
   "execution_count": null,
   "metadata": {},
   "outputs": [],
   "source": [
    "train"
   ]
  },
  {
   "cell_type": "code",
   "execution_count": null,
   "metadata": {},
   "outputs": [],
   "source": [
    "#train.to_csv(f'../data/train_{n}_blocks')"
   ]
  },
  {
   "cell_type": "code",
   "execution_count": null,
   "metadata": {},
   "outputs": [],
   "source": [
    "#train.to_csv(f'../data/train_{n}_blocks_contn')"
   ]
  },
  {
   "cell_type": "code",
   "execution_count": null,
   "metadata": {},
   "outputs": [],
   "source": [
    "color_me_pretty(test)"
   ]
  },
  {
   "cell_type": "code",
   "execution_count": null,
   "metadata": {},
   "outputs": [],
   "source": [
    "test"
   ]
  },
  {
   "cell_type": "code",
   "execution_count": null,
   "metadata": {},
   "outputs": [],
   "source": [
    "#test.to_csv(f'../data/test_{n}_blocks')"
   ]
  },
  {
   "cell_type": "code",
   "execution_count": null,
   "metadata": {},
   "outputs": [],
   "source": [
    "test.to_csv(f'../data/test_{n}_blocks_contn')"
   ]
  },
  {
   "cell_type": "code",
   "execution_count": null,
   "metadata": {},
   "outputs": [],
   "source": [
    "color_me_pretty(val)"
   ]
  },
  {
   "cell_type": "code",
   "execution_count": null,
   "metadata": {},
   "outputs": [],
   "source": [
    "val"
   ]
  },
  {
   "cell_type": "code",
   "execution_count": null,
   "metadata": {},
   "outputs": [],
   "source": [
    "#val.to_csv(f'../data/val_{n}_blocks')"
   ]
  },
  {
   "cell_type": "code",
   "execution_count": null,
   "metadata": {},
   "outputs": [],
   "source": [
    "val.to_csv(f'../data/val_{n}_blocks_contn')"
   ]
  },
  {
   "cell_type": "code",
   "execution_count": null,
   "metadata": {},
   "outputs": [],
   "source": [
    "test"
   ]
  },
  {
   "cell_type": "code",
   "execution_count": null,
   "metadata": {},
   "outputs": [],
   "source": [
    "#contaminated test set\n",
    "contaminated_test=test[:3793].copy()\n",
    "contaminated_test"
   ]
  },
  {
   "cell_type": "code",
   "execution_count": null,
   "metadata": {},
   "outputs": [],
   "source": [
    "def swap_colours(state,colour_map):\n",
    "    return tuple(\n",
    "        tuple(colour_map[block] if block in colour_map else block for block in tower) for tower in state)"
   ]
  },
  {
   "cell_type": "code",
   "execution_count": null,
   "metadata": {},
   "outputs": [],
   "source": [
    "def contiminate(df,colour_map):\n",
    "    for i in range(len(df['init'])):\n",
    "        \n",
    "        print('-----------------------------------------------------------------\\n\\n')\n",
    "        print(f'Colour map is: {colour_map}\\n\\n')\n",
    "        print(f\"Swapping colours of row {i}:, {df['init'][i]} -> {df['goal'][i]}\\n\")\n",
    "        \n",
    "        #swap colour for each row\n",
    "        df['init'][i]=swap_colours(df['init'][i],colour_map)\n",
    "        df['goal'][i]=swap_colours(df['goal'][i],colour_map)\n",
    "\n",
    "        print(f\"\\nAfter swapping colours of row {i} , {df['init'][i]} -> {df['goal'][i]}\\n\")\n"
   ]
  },
  {
   "cell_type": "code",
   "execution_count": null,
   "metadata": {},
   "outputs": [],
   "source": [
    "colour_map=get_col_map(colours)\n",
    "contiminate(contaminated_test,colour_map)"
   ]
  },
  {
   "cell_type": "code",
   "execution_count": null,
   "metadata": {},
   "outputs": [],
   "source": [
    "contaminated_test"
   ]
  },
  {
   "cell_type": "code",
   "execution_count": null,
   "metadata": {},
   "outputs": [],
   "source": [
    "#contaminated_test.to_csv(f'../data/contaminated_test_{n}_blocks')"
   ]
  },
  {
   "attachments": {},
   "cell_type": "markdown",
   "metadata": {},
   "source": [
    "## Step 2: Generation of prompt akin to planbench dataset ##"
   ]
  },
  {
   "cell_type": "code",
   "execution_count": null,
   "metadata": {},
   "outputs": [],
   "source": [
    "def create_ic(state):\n",
    "    state = ast.literal_eval(state)\n",
    "    init=\"\"\n",
    "    clear=[]\n",
    "    print(f'State in create_ic {state}' )\n",
    "    for tower in state:\n",
    "        tower_l=list(tower)\n",
    "        # print(f'Tower: {tower_l}')\n",
    "\n",
    "        for i,block in enumerate(tower_l):\n",
    "            \n",
    "            if len(tower_l) > 1:\n",
    "                # print(f'Height of tower : {len(tower_l)}')\n",
    "                # print(f'Index of block: {i}')\n",
    "\n",
    "                #lowermost block in the tower\n",
    "                if i == 0:\n",
    "                    # print(f' the {block} block is on the table,')\n",
    "                    init=init+f' the {str(block).lower()} block is on the table,'\n",
    "\n",
    "                #highest block in the tower\n",
    "                elif i == len(tower_l)-1:\n",
    "                    # print(f' the {block} block is on top of the {tower_l[i-1]} block,')\n",
    "                    init=init+f' the {str(block).lower()} block is on top of the {str(tower_l[i-1]).lower()} block,'\n",
    "                    # print(f' the {block} block is clear,')\n",
    "                    clear.append({str(block).lower()})\n",
    "\n",
    "                #everything else\n",
    "                else:\n",
    "                    # print(f' the {block} block is on top of the {tower_l[i-1]} block,')\n",
    "                    init=init+f' the {str(block).lower()} block is on top of the {str(tower_l[i-1]).lower()} block,'\n",
    "\n",
    "\n",
    "            else:\n",
    "                # print(f'Height of tower : {len(tower)}')\n",
    "                # print(f' the {str(block)} block is on the table,')\n",
    "                init=init+f' the {str(block).lower()} block is on the table,'\n",
    "                clear.append({str(block).lower()})\n",
    "\n",
    "    #print('#######',init)\n",
    "\n",
    "    clear_str=\"\"\n",
    "    for element in clear:\n",
    "        for block in element:\n",
    "            clear_str=f'the {block.lower()} block is clear, '+clear_str\n",
    "\n",
    "    init=clear_str+' the hand is empty,'+init\n",
    "    init=init[:-1] #remove the tail ,\n",
    "\n",
    "    return init"
   ]
  },
  {
   "cell_type": "code",
   "execution_count": null,
   "metadata": {},
   "outputs": [],
   "source": [
    "#i_state=(('Purple', 'Violet', 'Teal', 'Orange', 'Brown'),)\n",
    "#i_state= (('Teal', 'White'), ('Purple',))\n",
    "i_state=(('Grey',), ('Pink',), ('Blue', 'Yellow'), ('Green',))\n",
    "init=create_ic(i_state)\n",
    "print(init)"
   ]
  },
  {
   "cell_type": "code",
   "execution_count": null,
   "metadata": {},
   "outputs": [],
   "source": [
    "ic=init.split(',')"
   ]
  },
  {
   "cell_type": "code",
   "execution_count": null,
   "metadata": {},
   "outputs": [],
   "source": [
    "ic"
   ]
  },
  {
   "cell_type": "code",
   "execution_count": null,
   "metadata": {},
   "outputs": [],
   "source": [
    "def create_goal(state):\n",
    "    state = ast.literal_eval(state)\n",
    "    goal=\"\"\n",
    "    all_clear=True\n",
    "    print(f'State in create_goal {state}' )\n",
    "    for tower in state:\n",
    "        tower_l=list(tower)\n",
    "        #print(tower_l)\n",
    "    \n",
    "        for i,block in enumerate(tower_l):\n",
    "            \n",
    "            if len(tower_l) > 1:\n",
    "\n",
    "                all_clear=False #found a tower with multiple blocks\n",
    "\n",
    "                if i>0:\n",
    "                    #print(f' the {str(block)} block is on top of the {str(tower_l[i-1])} block,')\n",
    "                    goal=goal+f' the {str(block).lower()} block is on top of the {str(tower_l[i-1]).lower()} block,'\n",
    "\n",
    "    #for a config where NO block is on top of another one\n",
    "    if all_clear:\n",
    "        for tower in state:\n",
    "            tower_l=list(tower)\n",
    "            for block in tower_l:\n",
    "                    goal=goal+f' the {str(block).lower()} block is clear,'\n",
    "    \n",
    "    return goal[:-1]"
   ]
  },
  {
   "cell_type": "code",
   "execution_count": null,
   "metadata": {},
   "outputs": [],
   "source": [
    "g_state=(('Blue', 'Green', 'Grey'), ('Pink',), ('Yellow',))\n",
    "#g_state=(('White',), ('Teal',), ('Purple',))\n",
    "goal=create_goal(g_state)\n",
    "goal"
   ]
  },
  {
   "cell_type": "code",
   "execution_count": null,
   "metadata": {},
   "outputs": [],
   "source": [
    "gs=goal.split(',')"
   ]
  },
  {
   "cell_type": "code",
   "execution_count": null,
   "metadata": {},
   "outputs": [],
   "source": [
    "gs"
   ]
  },
  {
   "cell_type": "code",
   "execution_count": null,
   "metadata": {},
   "outputs": [],
   "source": [
    "import unifiedplanning_blocksworld as ubs\n",
    "import planbench as pb\n",
    "from importlib import reload"
   ]
  },
  {
   "cell_type": "code",
   "execution_count": null,
   "metadata": {},
   "outputs": [],
   "source": [
    "reload(pb)\n",
    "reload(ubs)"
   ]
  },
  {
   "cell_type": "code",
   "execution_count": null,
   "metadata": {},
   "outputs": [],
   "source": [
    "problem=ubs.BlocksworldProblem()\n",
    "#init,goal=pb.parse_problem(pbstring)\n",
    "pb.parse_planbench_initial_condition(problem, init)\n",
    "pb.parse_planbench_goal_state(problem, goal)\n",
    "print(f'\\n\\nBlocksworld Problem Initial Values:{problem.initial_values}')\n",
    "print(f'\\nBlocksworld Problem Goal Condition:{problem.goals}')"
   ]
  },
  {
   "cell_type": "code",
   "execution_count": null,
   "metadata": {},
   "outputs": [],
   "source": [
    "plan=problem.generate_plan()"
   ]
  },
  {
   "cell_type": "code",
   "execution_count": null,
   "metadata": {},
   "outputs": [],
   "source": [
    "planstring=str(plan.plan)\n",
    "plan_strings=planstring.split('\\n')\n",
    "plan_strings=[plan_string.strip() for plan_string in plan_strings]\n",
    "plan_strings=plan_strings[1:]"
   ]
  },
  {
   "cell_type": "code",
   "execution_count": null,
   "metadata": {},
   "outputs": [],
   "source": [
    "plan_strings"
   ]
  },
  {
   "cell_type": "code",
   "execution_count": null,
   "metadata": {},
   "outputs": [],
   "source": [
    "def form_action_string(action):\n",
    "\n",
    "    if 'unstack' in action:\n",
    "        m=re.search(r\"unstack\\((\\w+), (\\w+)\\)\",action)\n",
    "        return f\"unstack the {m.group(1)} block from on top of the {m.group(2)} block\"\n",
    "    \n",
    "    elif 'pick_up' in action:\n",
    "        m=re.search(r\"pick_up\\((\\w+)\",action)\n",
    "        return f\"pick up the {m.group(1)} block\"\n",
    "    \n",
    "    elif 'put_down' in action:\n",
    "        m=re.search(r\"put_down\\((\\w+)\",action)\n",
    "        return f\"put down the {m.group(1)} block\"\n",
    "    \n",
    "    elif 'stack' in action:\n",
    "        m=re.search(r\"stack\\((\\w+), (\\w+)\\)\",action)\n",
    "        return f\"stack the {m.group(1)} block on top of the {m.group(2)} block\""
   ]
  },
  {
   "cell_type": "code",
   "execution_count": null,
   "metadata": {},
   "outputs": [],
   "source": [
    "plan_strings = [form_action_string(plan_string) for plan_string in plan_strings] \n",
    "plan_strings = ['[PLAN]'] + plan_strings + ['[PLAN END]']"
   ]
  },
  {
   "cell_type": "code",
   "execution_count": null,
   "metadata": {},
   "outputs": [],
   "source": [
    "plan_strings"
   ]
  },
  {
   "cell_type": "code",
   "execution_count": null,
   "metadata": {},
   "outputs": [],
   "source": [
    "#load train data\n",
    "n=3\n",
    "import pandas as pd\n",
    "trainData=pd.read_csv(f'../data/train_{n}_blocks')\n",
    "trainData.drop(columns='Unnamed: 0',inplace=True)"
   ]
  },
  {
   "cell_type": "code",
   "execution_count": null,
   "metadata": {},
   "outputs": [],
   "source": [
    "trainData"
   ]
  },
  {
   "cell_type": "code",
   "execution_count": null,
   "metadata": {},
   "outputs": [],
   "source": [
    "#remove demonstration rows from training data\n",
    "demo_rows=11\n",
    "rows_to_drop=list(range(0,demo_rows))\n",
    "trainData=trainData.drop(rows_to_drop, axis=0).reset_index(drop=True)\n",
    "trainData"
   ]
  },
  {
   "cell_type": "code",
   "execution_count": null,
   "metadata": {},
   "outputs": [],
   "source": [
    "#extract demonstrations\n",
    "demo_rows=15\n",
    "demo=trainData[:demo_rows].copy()\n",
    "demo.reset_index(drop=True,inplace=True)\n",
    "demo"
   ]
  },
  {
   "cell_type": "code",
   "execution_count": null,
   "metadata": {},
   "outputs": [],
   "source": [
    "valData=pd.read_csv(f'../data/val_{n}_blocks')\n",
    "valData.drop(columns='Unnamed: 0',inplace=True)"
   ]
  },
  {
   "cell_type": "code",
   "execution_count": null,
   "metadata": {},
   "outputs": [],
   "source": [
    "valData"
   ]
  },
  {
   "cell_type": "code",
   "execution_count": null,
   "metadata": {},
   "outputs": [],
   "source": [
    "#remove demonstration rows from training data\n",
    "# rows_to_drop=list(range(0,demo_rows))\n",
    "# trainData=trainData.drop(rows_to_drop, axis=0).reset_index(drop=True)\n",
    "# trainData"
   ]
  },
  {
   "cell_type": "code",
   "execution_count": null,
   "metadata": {},
   "outputs": [],
   "source": [
    "def create_ubs_object(demo_row):\n",
    "    problem=ubs.BlocksworldProblem()\n",
    "    init=create_ic(demo_row['init'])\n",
    "    goal=create_goal(demo_row['goal'])\n",
    "\n",
    "    print(f'parsed initial conditions: {init}')\n",
    "    print(f'parsed initial conditions: {goal}')\n",
    "\n",
    "    pb.parse_planbench_initial_condition(problem, init)\n",
    "    pb.parse_planbench_goal_state(problem, goal)\n",
    "\n",
    "    print(f'\\n\\nBlocksworld Problem Initial Values:{problem.initial_values}')\n",
    "    print(f'\\nBlocksworld Problem Goal Condition:{problem.goals}')\n",
    "    plan=problem.generate_plan()\n",
    "    return init,goal,plan\n",
    "    "
   ]
  },
  {
   "cell_type": "code",
   "execution_count": null,
   "metadata": {},
   "outputs": [],
   "source": [
    "def add_plans_to_demo(demo):\n",
    "    \n",
    "    demo['plan']=''\n",
    "\n",
    "    for index, row in demo.iterrows():\n",
    "        print('Demo row:',index, row[0],'->',row[1])\n",
    "        init,goal,plan=create_ubs_object(row)\n",
    "\n",
    "        demo.at[index, 'init']=init\n",
    "        demo.at[index, 'goal']=goal\n",
    "\n",
    "        #string from plan object\n",
    "        plan_strings=str(plan.plan).strip().split('\\n')\n",
    "        plan_strings=plan_strings[1:]\n",
    "        plan_strings = [form_action_string(plan_string) for plan_string in plan_strings] \n",
    "        plan_strings = ['[PLAN]'] + plan_strings + ['[PLAN END]']\n",
    "\n",
    "        print(f'------PLAN STRINGS------ AFTER PROCESSING: {plan_strings}')\n",
    "        processed_plan='\\n'.join(plan_strings)\n",
    "        demo.at[index, 'plan']=processed_plan\n",
    "        \n",
    "    "
   ]
  },
  {
   "cell_type": "code",
   "execution_count": null,
   "metadata": {},
   "outputs": [],
   "source": [
    "add_plans_to_demo(demo)"
   ]
  },
  {
   "cell_type": "code",
   "execution_count": null,
   "metadata": {},
   "outputs": [],
   "source": [
    "demo"
   ]
  },
  {
   "cell_type": "code",
   "execution_count": null,
   "metadata": {},
   "outputs": [],
   "source": [
    "valData['demo_init']=''\n",
    "valData['demo_goal']=''\n",
    "valData['demo_plan']=''"
   ]
  },
  {
   "cell_type": "code",
   "execution_count": null,
   "metadata": {},
   "outputs": [],
   "source": [
    "\n",
    "for i in range(len(valData['init'])):\n",
    "\n",
    "    # Sample a random row from the demo dataframe\n",
    "    random_demo_row = demo.sample(n=1).iloc[0]\n",
    "\n",
    "    # Define the index of the row in 'train' where you want to add the demo data\n",
    "    val_index = i \n",
    "\n",
    "    # Assign values from demo to the corresponding columns in train\n",
    "    valData.loc[val_index, ['demo_init', 'demo_goal', 'demo_plan']] = random_demo_row[['init', 'goal', 'plan']].values\n"
   ]
  },
  {
   "cell_type": "code",
   "execution_count": null,
   "metadata": {},
   "outputs": [],
   "source": [
    "valData"
   ]
  },
  {
   "cell_type": "code",
   "execution_count": null,
   "metadata": {},
   "outputs": [],
   "source": [
    "trainData['init'][51]"
   ]
  },
  {
   "cell_type": "code",
   "execution_count": null,
   "metadata": {},
   "outputs": [],
   "source": [
    "trainData['goal'][51]"
   ]
  },
  {
   "cell_type": "code",
   "execution_count": null,
   "metadata": {},
   "outputs": [],
   "source": [
    "trainData['demo_init'][51]"
   ]
  },
  {
   "cell_type": "code",
   "execution_count": null,
   "metadata": {},
   "outputs": [],
   "source": [
    "trainData['demo_goal'][51]"
   ]
  },
  {
   "cell_type": "code",
   "execution_count": null,
   "metadata": {},
   "outputs": [],
   "source": [
    "print(trainData['demo_plan'][51])"
   ]
  },
  {
   "cell_type": "code",
   "execution_count": null,
   "metadata": {},
   "outputs": [],
   "source": [
    "valData.to_csv(f'../data/Oneshot_val_{n}_blocks')"
   ]
  },
  {
   "cell_type": "code",
   "execution_count": null,
   "metadata": {},
   "outputs": [],
   "source": []
  }
 ],
 "metadata": {
  "kernelspec": {
   "display_name": "planwllm",
   "language": "python",
   "name": "python3"
  },
  "language_info": {
   "codemirror_mode": {
    "name": "ipython",
    "version": 3
   },
   "file_extension": ".py",
   "mimetype": "text/x-python",
   "name": "python",
   "nbconvert_exporter": "python",
   "pygments_lexer": "ipython3",
   "version": "3.11.11"
  },
  "orig_nbformat": 4
 },
 "nbformat": 4,
 "nbformat_minor": 2
}
