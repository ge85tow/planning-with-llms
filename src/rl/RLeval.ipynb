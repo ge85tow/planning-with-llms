{
 "cells": [
  {
   "cell_type": "code",
   "execution_count": 1,
   "metadata": {},
   "outputs": [],
   "source": [
    "import pandas as pd\n",
    "import ast"
   ]
  },
  {
   "cell_type": "code",
   "execution_count": null,
   "metadata": {},
   "outputs": [],
   "source": [
    "path=\"/srv/chawak/planning-with-llms/results/rl/training/\"\n",
    "#date=\"17_06/\"\n",
    "date='debug-2006/'\n",
    "df= pd.read_csv(f'{path}{date}metrics.csv')\n",
    "#df=pd.read_csv(f\"{path}{inference_dir}\")\n",
    "df=df.drop(columns=['Unnamed: 0'])"
   ]
  },
  {
   "cell_type": "code",
   "execution_count": null,
   "metadata": {},
   "outputs": [],
   "source": [
    "df['Terminate']=df['Terminate'].apply(ast.literal_eval)"
   ]
  },
  {
   "cell_type": "code",
   "execution_count": null,
   "metadata": {},
   "outputs": [],
   "source": [
    "def terminate_per_problem(lst, chunk_size):\n",
    "    return [sum(lst[i:i + chunk_size]) for i in range(0, len(lst), chunk_size)]"
   ]
  },
  {
   "cell_type": "code",
   "execution_count": null,
   "metadata": {},
   "outputs": [],
   "source": [
    "import yaml\n",
    "with open(\"/srv/chawak/planning-with-llms/src/rl/config.yaml\", \"r\") as f:\n",
    "    cfg=yaml.safe_load(f)\n",
    "group_size=cfg['training']['num_generations']"
   ]
  },
  {
   "cell_type": "code",
   "execution_count": null,
   "metadata": {},
   "outputs": [],
   "source": [
    "df['Terminate_chunks'] = df['Terminate'].apply(lambda x: terminate_per_problem(x, group_size))"
   ]
  },
  {
   "cell_type": "code",
   "execution_count": null,
   "metadata": {},
   "outputs": [],
   "source": [
    "df['Terminate_chunks']"
   ]
  },
  {
   "cell_type": "code",
   "execution_count": null,
   "metadata": {},
   "outputs": [],
   "source": [
    "# transposed"
   ]
  },
  {
   "cell_type": "code",
   "execution_count": null,
   "metadata": {},
   "outputs": [],
   "source": [
    "import matplotlib.pyplot as plt\n",
    "import numpy as np\n",
    "\n",
    "# Data\n",
    "metrics = ['reward/format_reward', 'reward/plan_reward', 'reward/bonus_reward', '# Terminate']\n",
    "epochs = np.arange(len(df))\n",
    "bar_width = 0.2\n",
    "\n",
    "plt.figure(figsize=(12, 6))\n",
    "\n",
    "for i, metric in enumerate(metrics):\n",
    "    bar_positions = epochs + i * bar_width\n",
    "    values = df[metric]\n",
    "    \n",
    "    # Plot bars\n",
    "    bars = plt.bar(bar_positions, values, width=bar_width, label=metric)\n",
    "    \n",
    "    # Add value labels on top\n",
    "    for bar in bars:\n",
    "        height = bar.get_height()\n",
    "        plt.text(bar.get_x() + bar.get_width()/2, height + 0.3, f'{height:.1f}', \n",
    "                 ha='center', va='bottom', fontsize=8)\n",
    "\n",
    "# X-axis setup\n",
    "plt.xticks(epochs + bar_width * (len(metrics)-1)/2, [f'Epoch {i}' for i in epochs])\n",
    "plt.xlabel('Epoch')\n",
    "plt.ylabel('Value')\n",
    "plt.title('Epoch-wise rewards and #plans that reach goal')\n",
    "plt.legend()\n",
    "plt.tight_layout()\n",
    "plt.show()\n"
   ]
  },
  {
   "cell_type": "code",
   "execution_count": null,
   "metadata": {},
   "outputs": [],
   "source": [
    "import matplotlib.pyplot as plt\n",
    "import numpy as np\n",
    "\n",
    "# Data\n",
    "metrics = ['reward/format_reward', 'reward/plan_reward', 'reward/bonus_reward', '# Terminate']\n",
    "epochs = np.arange(len(df))\n",
    "\n",
    "plt.figure(figsize=(12, 6))\n",
    "\n",
    "# Plot a separate line for each metric\n",
    "for metric in metrics:\n",
    "    values = df[metric]\n",
    "    plt.plot(epochs, values, marker='o', label=metric)\n",
    "\n",
    "    # Add value labels at each point\n",
    "    for x, y in zip(epochs, values):\n",
    "        plt.text(x, y + 0.2, f'{y:.1f}', ha='center', va='bottom', fontsize=8)\n",
    "\n",
    "    #moving-average for plan-reward\n",
    "    if metric==\"reward/plan_reward\":\n",
    "        rolling_values=df[metric].rolling(window=3,min_periods=1).mean()\n",
    "        plt.plot(epochs,rolling_values,linestyle='--',linewidth=2, label= 'reward/plan_reward(rolling avg of 3)')\n",
    "\n",
    "# X-axis setup\n",
    "plt.xticks(epochs, [f'Epoch {i}' for i in epochs])\n",
    "plt.xlabel('Epoch')\n",
    "plt.ylabel('Value')\n",
    "plt.title('Epoch-wise rewards and #plans that reach goal')\n",
    "plt.legend()\n",
    "plt.grid(True)\n",
    "plt.tight_layout()\n",
    "plt.show()\n"
   ]
  },
  {
   "attachments": {},
   "cell_type": "markdown",
   "metadata": {},
   "source": [
    "scrap for fun"
   ]
  },
  {
   "cell_type": "code",
   "execution_count": 2,
   "metadata": {},
   "outputs": [],
   "source": [
    "import regex as re"
   ]
  },
  {
   "cell_type": "code",
   "execution_count": 36,
   "metadata": {},
   "outputs": [],
   "source": [
    "gibberish=r\"(.*)\"\n",
    "plan=r\"\\[PLAN\\](.*?)\\[PLAN END\\]\"\n",
    "think=r\"<think>(.*?)<\\/think>\""
   ]
  },
  {
   "cell_type": "code",
   "execution_count": 86,
   "metadata": {},
   "outputs": [],
   "source": [
    "#case-1: no gibberish, no plan, yes think \n",
    "pattern1=f\"{think}\"\n",
    "compiled1=re.compile(pattern1,re.DOTALL)\n",
    "\n",
    "#case-2: no gibberish, yes plan, no think\n",
    "pattern2=f\"{plan}\"\n",
    "compiled2=re.compile(pattern2,re.DOTALL)\n",
    "\n",
    "#case-3: no gibberish, yes plan, yes think\n",
    "pattern3=f\"{think}\\s*{plan}\"\n",
    "compiled3=re.compile(pattern3,re.DOTALL)\n",
    "\n",
    "#case-6: yes gibberish, yes plan, yes think\n",
    "pattern6=f\"{think}{gibberish}{plan}\"\n",
    "compiled6=re.compile(pattern6,re.DOTALL)\n"
   ]
  },
  {
   "cell_type": "code",
   "execution_count": 98,
   "metadata": {},
   "outputs": [],
   "source": [
    "def reward_func(response):\n",
    "    \n",
    "    response=response.strip()\n",
    "    score=0\n",
    "\n",
    "    #ONLY think tag\n",
    "    fullmatchthink=False\n",
    "    if compiled1.fullmatch(response):\n",
    "        score=7\n",
    "        fullmatchthink=True\n",
    "    if compiled1.search(response) and not fullmatchthink:\n",
    "        score=5\n",
    "    \n",
    "    #ONLY plan tag\n",
    "    fullmatchplan=False\n",
    "    if compiled2.fullmatch(response):\n",
    "        score=3\n",
    "        fullmatchplan=True\n",
    "    if compiled2.search(response) and not fullmatchplan:\n",
    "        score=2\n",
    "    \n",
    "    #COMBO of both tags\n",
    "    fullmatchcombo=False\n",
    "    if compiled3.fullmatch(response):\n",
    "        score=20\n",
    "        fullmatchcombo=True\n",
    "    if compiled6.search(response) and not fullmatchcombo:\n",
    "        score=15\n",
    "\n",
    "    return score"
   ]
  },
  {
   "cell_type": "code",
   "execution_count": 44,
   "metadata": {},
   "outputs": [],
   "source": [
    "response='''<think>\n",
    "\\nFirst unstack the green block from on top of the red block.\\n\n",
    "Then put down the green block.\\nThen pick up the red block.\\nThen stack the red block on top of the green block.\n",
    "\\nThen pick up the pink block.\\nThen stack the pink block on top of the red block.\\n\n",
    "</think>\n",
    "\\n[PLAN]\n",
    "\\nunstack the green block from on top of the red block\\nput down the green block\n",
    "\\npick up the red block\\nstack the red block on top of the green block\\npick up the pink block\n",
    "\\nstack the pink block on top of the red block\\n\n",
    "[PLAN END]\\n'''"
   ]
  },
  {
   "cell_type": "code",
   "execution_count": 96,
   "metadata": {},
   "outputs": [],
   "source": [
    "response='''<think>\n",
    "\\nFirst unstack the green block from on top of the red block.\\n\n",
    "Then put down the green block.\\nThen pick up the red block.\\nThen stack the red block on top of the green block.\n",
    "\\nThen pick up the pink block.\\nThen stack the pink block on top of the red block.\\n\n",
    "</think>\n",
    "\\n[PLAN]\n",
    "\\nunstack the green block from on top of the red block\\nput down the green block\n",
    "\\npick up the red block\\nstack the red block on top of the green block\\npick up the pink block\n",
    "\\nstack the pink block on top of the red block\\n\n",
    "[PLAN END]\\n\n",
    "'''"
   ]
  },
  {
   "cell_type": "code",
   "execution_count": 97,
   "metadata": {},
   "outputs": [
    {
     "name": "stdout",
     "output_type": "stream",
     "text": [
      "True\n"
     ]
    },
    {
     "data": {
      "text/plain": [
       "20"
      ]
     },
     "execution_count": 97,
     "metadata": {},
     "output_type": "execute_result"
    }
   ],
   "source": [
    "reward_func(response)"
   ]
  },
  {
   "cell_type": "code",
   "execution_count": null,
   "metadata": {},
   "outputs": [],
   "source": [
    "import inspect\n",
    "from unsloth import FastLanguageModel\n",
    "\n",
    "print(inspect.signature(FastLanguageModel.from_pretrained))"
   ]
  },
  {
   "cell_type": "code",
   "execution_count": null,
   "metadata": {},
   "outputs": [],
   "source": [
    "print('<bos><start_of_turn>user\\nI am a blocksworld plan generator.\\nI first think about the reasoning process in the mind and then provide the user with the plan.\\nThe reasoning process and plan are enclosed within <think> </think> and [PLAN] [PLAN END] tags, respectively,\\ni.e., <think> reasoning process here </think> [PLAN] plan here [PLAN END].\\n\\n\\nI am playing with a set of blocks where I need to arrange the blocks into stacks\\n        Here are the actions I can do: Pick up a block, Unstack a block from on top of another block, Put down a block, Stack a block on top of another block.\\n        I have the following restrictions on my actions:\\n        I can only pick up or unstack one block at a time\\n        I can only pick up or unstack a block if my hand is empty\\n        I can only pick up a block if the block is on the table and the block is clear\\n        A block is clear if the block has no other blocks on top of it and if the block is not picked up\\n        I can only unstack a block from on top of another block if the block I am unstacking was really on top of the other block\\n        I can only unstack a block from on top of another block if the block I am unstacking is clear\\n        Once I pick up or unstack a block, I am holding the block\\n        I can only put down a block that I am holding\\n        I can only stack a block on top of another block if I am holding the block being stacked\\n        I can only stack a block on top of another block if the block onto which I am stacking the block is clear\\n        Once I put down or stack a block, my hand becomes empty\\n        Once you stack a block on top of a second block, the second block is no longer clear\\n\\n[STATEMENT]\\nAs initial conditions I have that, the brown block is clear, the teal block is clear,  the hand is empty, the violet block is on the table, the brown block is on top of the violet block, the teal block is on the table.\\nMy goal is to have that  the brown block is on the table, the violet block is on top of the brown block, the teal block is on top of the violet block.\\n\\nMy plan is as follows:\\n\\n[PLAN]\\nunstack the brown block from on top of the violet block\\nput down the brown block\\npick up the violet block\\nstack the violet block on top of the brown block\\npick up the teal block\\nstack the teal block on top of the violet block\\n[PLAN END]\\n\\n[STATEMENT]\\nAs initial conditions I have that, the green block is clear,  the hand is empty, the pink block is on the table, the red block is on top of the pink block, the green block is on top of the red block.\\nMy goal is to have that  the pink block is on the table, the red block is on top of the pink block, the green block is on the table.\\n\\nMy plan is as follows: \\n\\n[PLAN]<end_of_turn>\\n<start_of_turn>model\\n')"
   ]
  },
  {
   "cell_type": "code",
   "execution_count": null,
   "metadata": {},
   "outputs": [],
   "source": []
  }
 ],
 "metadata": {
  "kernelspec": {
   "display_name": "planwllm",
   "language": "python",
   "name": "python3"
  },
  "language_info": {
   "codemirror_mode": {
    "name": "ipython",
    "version": 3
   },
   "file_extension": ".py",
   "mimetype": "text/x-python",
   "name": "python",
   "nbconvert_exporter": "python",
   "pygments_lexer": "ipython3",
   "version": "3.11.11"
  },
  "orig_nbformat": 4
 },
 "nbformat": 4,
 "nbformat_minor": 2
}
